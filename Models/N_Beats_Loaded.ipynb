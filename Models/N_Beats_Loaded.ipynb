{
  "cells": [
    {
      "cell_type": "markdown",
      "metadata": {
        "id": "Dq9Qqfvm6rla"
      },
      "source": [
        "# Imports and Setup"
      ]
    },
    {
      "cell_type": "code",
      "execution_count": null,
      "metadata": {
        "colab": {
          "base_uri": "https://localhost:8080/"
        },
        "id": "zKEXdH7L6rld",
        "outputId": "86a64a2e-105c-42e2-b0a1-077a2d9c3b1b"
      },
      "outputs": [],
      "source": [
        "import numpy as np\n",
        "\n",
        "!pip install nbeats-keras\n",
        "from nbeats_keras.model import NBeatsNet as NBeatsKeras\n",
        "\n",
        "import pandas as pd\n",
        "from sklearn.preprocessing import MinMaxScaler\n",
        "from sklearn.metrics import mean_absolute_error, mean_squared_error\n",
        "from sklearn.model_selection import train_test_split\n",
        "import os\n",
        "import math\n",
        "import glob\n",
        "import scipy\n",
        "!pip install tensorflow_datasets\n",
        "import tensorflow_datasets as tfds\n",
        "\n",
        "from csv import writer\n",
        "\n",
        "from statistics import stdev\n",
        "\n",
        "import pickle\n",
        "import matplotlib.pyplot as plt"
      ]
    },
    {
      "cell_type": "markdown",
      "metadata": {
        "id": "msM9Zlut6rlf"
      },
      "source": [
        "# Loading the Data"
      ]
    },
    {
      "cell_type": "code",
      "execution_count": null,
      "metadata": {
        "colab": {
          "base_uri": "https://localhost:8080/"
        },
        "id": "U4LI4JlH6rlf",
        "outputId": "d92b0f86-8bf5-4e56-ca20-729ad0cda297"
      },
      "outputs": [],
      "source": [
        "filename = 'Data/75.pkl'\n",
        "\n",
        "with open(filename, 'rb') as f:\n",
        "    train_x, train_y, max_ABP = pickle.load(f)"
      ]
    },
    {
      "cell_type": "code",
      "execution_count": null,
      "metadata": {
        "id": "lDGZQ-fg6rlf"
      },
      "outputs": [],
      "source": [
        "inputs = train_x\n",
        "targets = train_y"
      ]
    },
    {
      "cell_type": "code",
      "execution_count": null,
      "metadata": {
        "colab": {
          "base_uri": "https://localhost:8080/"
        },
        "id": "KgT7PNQ_6rlg",
        "outputId": "b2ddd4a6-b16c-41ef-ae4a-229f58fd0976"
      },
      "outputs": [
        {
          "data": {
            "text/plain": [
              "(105443, 250, 2)"
            ]
          },
          "execution_count": 5,
          "metadata": {},
          "output_type": "execute_result"
        }
      ],
      "source": [
        "train_x.shape"
      ]
    },
    {
      "cell_type": "code",
      "execution_count": null,
      "metadata": {
        "colab": {
          "base_uri": "https://localhost:8080/"
        },
        "id": "KEwqiEoC6rlg",
        "outputId": "4898c48a-dcf1-4792-c364-a8b80d10d756"
      },
      "outputs": [
        {
          "data": {
            "text/plain": [
              "(105443, 2)"
            ]
          },
          "execution_count": 6,
          "metadata": {},
          "output_type": "execute_result"
        }
      ],
      "source": [
        "train_y.shape"
      ]
    },
    {
      "cell_type": "code",
      "execution_count": null,
      "metadata": {
        "id": "i84529mf6rlg"
      },
      "outputs": [],
      "source": [
        "train_x, test_x, train_y, test_y = train_test_split(train_x, train_y, test_size=0.20, shuffle=True)"
      ]
    },
    {
      "cell_type": "code",
      "execution_count": null,
      "metadata": {
        "id": "33ukfSpV6rlh"
      },
      "outputs": [],
      "source": [
        "test_y = test_y*max_ABP"
      ]
    },
    {
      "cell_type": "markdown",
      "metadata": {
        "id": "WBTIDZLq6rlh"
      },
      "source": [
        "# NBeats Model"
      ]
    },
    {
      "cell_type": "code",
      "execution_count": null,
      "metadata": {
        "colab": {
          "base_uri": "https://localhost:8080/"
        },
        "id": "GLq3ueLu6rlh",
        "outputId": "5c1dd0fa-ab5c-42f5-c405-89d3c0046a81"
      },
      "outputs": [
        {
          "name": "stdout",
          "output_type": "stream",
          "text": [
            "Epoch 1/50\n",
            "WARNING:tensorflow:Model was constructed with shape (None, 250, 1) for input KerasTensor(type_spec=TensorSpec(shape=(None, 250, 1), dtype=tf.float32, name='input_variable'), name='input_variable', description=\"created by layer 'input_variable'\"), but it was called on an input with incompatible shape (None, 250, 2).\n",
            "WARNING:tensorflow:Model was constructed with shape (None, 250, 1) for input KerasTensor(type_spec=TensorSpec(shape=(None, 250, 1), dtype=tf.float32, name='input_variable'), name='input_variable', description=\"created by layer 'input_variable'\"), but it was called on an input with incompatible shape (None, 250, 2).\n",
            "660/660 [==============================] - 24s 34ms/step - loss: 0.0606\n",
            "Epoch 2/50\n",
            "660/660 [==============================] - 20s 30ms/step - loss: 0.0530\n",
            "Epoch 3/50\n",
            "660/660 [==============================] - 13s 20ms/step - loss: 0.0511\n",
            "Epoch 4/50\n",
            "660/660 [==============================] - 13s 20ms/step - loss: 0.0492\n",
            "Epoch 5/50\n",
            "660/660 [==============================] - 13s 20ms/step - loss: 0.0480\n",
            "Epoch 6/50\n",
            "660/660 [==============================] - 13s 20ms/step - loss: 0.0473\n",
            "Epoch 7/50\n",
            "660/660 [==============================] - 13s 20ms/step - loss: 0.0458\n",
            "Epoch 8/50\n",
            "660/660 [==============================] - 14s 21ms/step - loss: 0.0448\n",
            "Epoch 9/50\n",
            "660/660 [==============================] - 14s 21ms/step - loss: 0.0438\n",
            "Epoch 10/50\n",
            "660/660 [==============================] - 13s 20ms/step - loss: 0.0431\n",
            "Epoch 11/50\n",
            "660/660 [==============================] - 13s 20ms/step - loss: 0.0425\n",
            "Epoch 12/50\n",
            "660/660 [==============================] - 13s 20ms/step - loss: 0.0417\n",
            "Epoch 13/50\n",
            "660/660 [==============================] - 13s 20ms/step - loss: 0.0413\n",
            "Epoch 14/50\n",
            "660/660 [==============================] - 13s 20ms/step - loss: 0.0406\n",
            "Epoch 15/50\n",
            "660/660 [==============================] - 13s 20ms/step - loss: 0.0400\n",
            "Epoch 16/50\n",
            "660/660 [==============================] - 13s 20ms/step - loss: 0.0396\n",
            "Epoch 17/50\n",
            "660/660 [==============================] - 14s 21ms/step - loss: 0.0394\n",
            "Epoch 18/50\n",
            "660/660 [==============================] - 13s 20ms/step - loss: 0.0386\n",
            "Epoch 19/50\n",
            "660/660 [==============================] - 13s 20ms/step - loss: 0.0382\n",
            "Epoch 20/50\n",
            "660/660 [==============================] - 13s 20ms/step - loss: 0.0378\n",
            "Epoch 21/50\n",
            "660/660 [==============================] - 13s 20ms/step - loss: 0.0373\n",
            "Epoch 22/50\n",
            "660/660 [==============================] - 13s 20ms/step - loss: 0.0370\n",
            "Epoch 23/50\n",
            "660/660 [==============================] - 13s 20ms/step - loss: 0.0366\n",
            "Epoch 24/50\n",
            "660/660 [==============================] - 13s 20ms/step - loss: 0.0363\n",
            "Epoch 25/50\n",
            "660/660 [==============================] - 14s 21ms/step - loss: 0.0363\n",
            "Epoch 26/50\n",
            "660/660 [==============================] - 13s 20ms/step - loss: 0.0358\n",
            "Epoch 27/50\n",
            "660/660 [==============================] - 13s 20ms/step - loss: 0.0354\n",
            "Epoch 28/50\n",
            "660/660 [==============================] - 13s 20ms/step - loss: 0.0349\n",
            "Epoch 29/50\n",
            "660/660 [==============================] - 13s 20ms/step - loss: 0.0347\n",
            "Epoch 30/50\n",
            "660/660 [==============================] - 13s 20ms/step - loss: 0.0349\n",
            "Epoch 31/50\n",
            "660/660 [==============================] - 13s 20ms/step - loss: 0.0343\n",
            "Epoch 32/50\n",
            "660/660 [==============================] - 13s 20ms/step - loss: 0.0340\n",
            "Epoch 33/50\n",
            "660/660 [==============================] - 13s 20ms/step - loss: 0.0343\n",
            "Epoch 34/50\n",
            "660/660 [==============================] - 13s 20ms/step - loss: 0.0337\n",
            "Epoch 35/50\n",
            "660/660 [==============================] - 13s 20ms/step - loss: 0.0338\n",
            "Epoch 36/50\n",
            "660/660 [==============================] - 13s 20ms/step - loss: 0.0332\n",
            "Epoch 37/50\n",
            "660/660 [==============================] - 13s 20ms/step - loss: 0.0329\n",
            "Epoch 38/50\n",
            "660/660 [==============================] - 13s 20ms/step - loss: 0.0329\n",
            "Epoch 39/50\n",
            "660/660 [==============================] - 13s 20ms/step - loss: 0.0328\n",
            "Epoch 40/50\n",
            "660/660 [==============================] - 13s 20ms/step - loss: 0.0324\n",
            "Epoch 41/50\n",
            "660/660 [==============================] - 13s 20ms/step - loss: 0.0324\n",
            "Epoch 42/50\n",
            "660/660 [==============================] - 13s 20ms/step - loss: 0.0324\n",
            "Epoch 43/50\n",
            "660/660 [==============================] - 13s 20ms/step - loss: 0.0324\n",
            "Epoch 44/50\n",
            "660/660 [==============================] - 13s 20ms/step - loss: 0.0320\n",
            "Epoch 45/50\n",
            "660/660 [==============================] - 13s 20ms/step - loss: 0.0316\n",
            "Epoch 46/50\n",
            "660/660 [==============================] - 13s 20ms/step - loss: 0.0319\n",
            "Epoch 47/50\n",
            "660/660 [==============================] - 13s 20ms/step - loss: 0.0315\n",
            "Epoch 48/50\n",
            "660/660 [==============================] - 13s 20ms/step - loss: 0.0311\n",
            "Epoch 49/50\n",
            "660/660 [==============================] - 13s 20ms/step - loss: 0.0312\n",
            "Epoch 50/50\n",
            "660/660 [==============================] - 13s 20ms/step - loss: 0.0308\n"
          ]
        },
        {
          "data": {
            "text/plain": [
              "<keras.callbacks.History at 0x7f040b686950>"
            ]
          },
          "execution_count": 9,
          "metadata": {},
          "output_type": "execute_result"
        }
      ],
      "source": [
        "time_steps, input_dim, output_dim = 250,2,2\n",
        "\n",
        "model = NBeatsKeras(\n",
        "            backcast_length=time_steps, forecast_length=output_dim,\n",
        "            stack_types=(NBeatsKeras.GENERIC_BLOCK, NBeatsKeras.GENERIC_BLOCK),\n",
        "            nb_blocks_per_stack=4, thetas_dim=(4, 4), share_weights_in_stack=True,\n",
        "            hidden_layer_units=128\n",
        "        )\n",
        "\n",
        "model.compile(loss='mae', optimizer='adam')\n",
        "\n",
        "model.fit(train_x, train_y, epochs=50, batch_size=128)"
      ]
    },
    {
      "cell_type": "markdown",
      "metadata": {
        "id": "yTsqkReb6rli"
      },
      "source": [
        "# Relevant Plots"
      ]
    },
    {
      "cell_type": "markdown",
      "metadata": {},
      "source": [
        "## Training"
      ]
    },
    {
      "cell_type": "code",
      "execution_count": null,
      "metadata": {
        "colab": {
          "base_uri": "https://localhost:8080/",
          "height": 582
        },
        "id": "p-xLV8XK6rli",
        "outputId": "74804097-f9ed-409a-dfc1-dbe5858dd12d"
      },
      "outputs": [
        {
          "name": "stdout",
          "output_type": "stream",
          "text": [
            "WARNING:tensorflow:Model was constructed with shape (None, 250, 1) for input KerasTensor(type_spec=TensorSpec(shape=(None, 250, 1), dtype=tf.float32, name='input_variable'), name='input_variable', description=\"created by layer 'input_variable'\"), but it was called on an input with incompatible shape (None, 250, 2).\n"
          ]
        },
        {
          "data": {
            "image/png": "[encoded data removed]",
            "text/plain": [
              "<Figure size 432x288 with 1 Axes>"
            ]
          },
          "metadata": {
            "needs_background": "light"
          },
          "output_type": "display_data"
        },
        {
          "data": {
            "image/png": "[encoded data removed]",
            "text/plain": [
              "<Figure size 432x288 with 1 Axes>"
            ]
          },
          "metadata": {
            "needs_background": "light"
          },
          "output_type": "display_data"
        }
      ],
      "source": [
        "train_predicted = model.predict(train_x)\n",
        "\n",
        "plt.plot(train_y[:,0]*max_ABP, color='r', label = 'Actual')\n",
        "plt.plot(train_predicted[:,0]*max_ABP, color='b', label = 'Predicted')\n",
        "plt.legend()\n",
        "plt.title('Training : SBP Predictions')\n",
        "\n",
        "plt.show()\n",
        "\n",
        "plt.plot(train_y[:,1]*max_ABP, color='r', label = 'Actual')\n",
        "plt.plot(train_predicted[:,1]*max_ABP, color='b', label = 'Predicted')\n",
        "plt.legend()\n",
        "plt.title('Training : DBP Predictions')\n",
        "\n",
        "plt.show()"
      ]
    },
    {
      "cell_type": "markdown",
      "metadata": {},
      "source": [
        "## Testing"
      ]
    },
    {
      "cell_type": "code",
      "execution_count": null,
      "metadata": {
        "colab": {
          "base_uri": "https://localhost:8080/",
          "height": 545
        },
        "id": "6It6DpKz6rli",
        "outputId": "97fd5303-5194-44c6-ab6e-12d46044aa32"
      },
      "outputs": [
        {
          "data": {
            "image/png": "[encoded data removed]",
            "text/plain": [
              "<Figure size 432x288 with 1 Axes>"
            ]
          },
          "metadata": {
            "needs_background": "light"
          },
          "output_type": "display_data"
        },
        {
          "data": {
            "image/png": "[encoded data removed]",
            "text/plain": [
              "<Figure size 432x288 with 1 Axes>"
            ]
          },
          "metadata": {
            "needs_background": "light"
          },
          "output_type": "display_data"
        }
      ],
      "source": [
        "test_predicted = model.predict(test_x)\n",
        "\n",
        "plt.plot(test_y[:,0], color='r', label = 'Actual')\n",
        "plt.plot(test_predicted[:,0]*max_ABP, color='b', label = 'Predicted')\n",
        "plt.legend()\n",
        "plt.title('Testing : SBP Predictions')\n",
        "\n",
        "plt.show()\n",
        "\n",
        "plt.plot(test_y[:,1], color='r', label = 'Actual')\n",
        "plt.plot(test_predicted[:,1]*max_ABP, color='b', label = 'Predicted')\n",
        "plt.legend()\n",
        "plt.title('Testing: DBP Predictions')\n",
        "\n",
        "plt.show()"
      ]
    },
    {
      "cell_type": "markdown",
      "metadata": {
        "id": "pkDF3iOG6rli"
      },
      "source": [
        "# Evaluating the Model\n",
        "Kindly refer the excel sheet attached in the repository"
      ]
    },
    {
      "cell_type": "code",
      "execution_count": null,
      "metadata": {
        "id": "8uM9xjkk6rlj"
      },
      "outputs": [],
      "source": [
        "def test_dataset(test_x, test_y, model):\n",
        "   \n",
        "   predicted = model.predict(test_x)\n",
        "   predicted = predicted*max_ABP\n",
        "   predicted = predicted.reshape(predicted.shape[0], predicted.shape[1])\n",
        "\n",
        "   predicted = pd.DataFrame(predicted, columns=['SBP', 'DBP'])\n",
        "   test_y = pd.DataFrame(test_y, columns=['SBP', 'DBP'])\n",
        "\n",
        "   mae_sbp  =   mean_absolute_error(test_y['SBP'], predicted['SBP'])\n",
        "   sd_sbp =    stdev(predicted['SBP'])\n",
        "   mae_dbp  =   mean_absolute_error(test_y['DBP'], predicted['DBP'])\n",
        "   sd_dbp =    stdev(predicted['DBP'])\n",
        "   mae_map = mean_absolute_error((test_y['SBP'] + 2*test_y['DBP'])/3, (predicted['SBP'] + 2*test_y['DBP'])/3)\n",
        "   sd_map = stdev((predicted['SBP'] + 2*test_y['DBP'])/3)\n",
        "\n",
        "\n",
        "   sbp_diff = np.absolute(predicted['SBP'] - test_y['SBP'])\n",
        "   dbp_diff = np.absolute(predicted['DBP'] - test_y['DBP'])\n",
        "   map_diff = (sbp_diff + 2*dbp_diff)/3\n",
        "\n",
        "   #SBP\n",
        "   test_sbp_5 = []\n",
        "   predicted_sbp_5 = []\n",
        "\n",
        "   test_sbp_10 = []\n",
        "   predicted_sbp_10 = []\n",
        "\n",
        "   test_sbp_15 = []\n",
        "   predicted_sbp_15 = []\n",
        "\n",
        "\n",
        "   #DBP\n",
        "   test_dbp_5 = []\n",
        "   predicted_dbp_5 = []\n",
        "\n",
        "   test_dbp_10 = []\n",
        "   predicted_dbp_10 = []\n",
        "\n",
        "   test_dbp_15 = []\n",
        "   predicted_dbp_15 = []\n",
        "\n",
        "\n",
        "   #MAP\n",
        "   test_map_5 = []\n",
        "   predicted_map_5 = []\n",
        "\n",
        "   test_map_10 = []\n",
        "   predicted_map_10 = []\n",
        "\n",
        "   test_map_15 = []\n",
        "   predicted_map_15 = []\n",
        "\n",
        "   for i in range(len(sbp_diff)):\n",
        "      #SBP\n",
        "      if sbp_diff[i] <= 5:\n",
        "         test_sbp_5.append(test_y['SBP'][i])\n",
        "         predicted_sbp_5.append(predicted['SBP'][i])\n",
        "      \n",
        "      if(sbp_diff[i] <= 10):\n",
        "         test_sbp_10.append(test_y['SBP'][i])\n",
        "         predicted_sbp_10.append(predicted['SBP'][i])\n",
        "\n",
        "      if(sbp_diff[i] <= 15):\n",
        "         test_sbp_15.append(test_y['SBP'][i])\n",
        "         predicted_sbp_15.append(predicted['SBP'][i])\n",
        "\n",
        "      \n",
        "      #DBP\n",
        "      if dbp_diff[i] <= 5:\n",
        "         test_dbp_5.append(test_y['DBP'][i])\n",
        "         predicted_dbp_5.append(predicted['DBP'][i])\n",
        "      \n",
        "      if(dbp_diff[i] <= 10):\n",
        "         test_dbp_10.append(test_y['DBP'][i])\n",
        "         predicted_dbp_10.append(predicted['DBP'][i])\n",
        "\n",
        "      if(dbp_diff[i] <= 15):\n",
        "         test_dbp_15.append(test_y['DBP'][i])\n",
        "         predicted_dbp_15.append(predicted['DBP'][i])\n",
        "\n",
        "\n",
        "      #MAP\n",
        "      if map_diff[i] <= 5:\n",
        "         test_map_5.append((test_y['SBP'][i] + 2*test_y['DBP'][i])/3)\n",
        "         predicted_map_5.append((predicted['SBP'][i] + 2*test_y['DBP'][i])/3)\n",
        "      \n",
        "      if(map_diff[i] <= 10):\n",
        "         test_map_10.append((test_y['SBP'][i] + 2*test_y['DBP'][i])/3)\n",
        "         predicted_map_10.append((predicted['SBP'][i] + 2*test_y['DBP'][i])/3)\n",
        "\n",
        "      if(map_diff[i] <= 15):\n",
        "         test_map_15.append((test_y['SBP'][i] + 2*test_y['DBP'][i])/3)\n",
        "         predicted_map_15.append((predicted['SBP'][i] + 2*test_y['DBP'][i])/3)\n",
        "\n",
        "      \n",
        "   percent_sbp_5 = (len(test_sbp_5)/len(test_y['SBP'])) * 100\n",
        "   percent_sbp_10 = (len(test_sbp_10)/len(test_y['SBP'])) * 100\n",
        "   percent_sbp_15 = (len(test_sbp_15)/len(test_y['SBP'])) * 100\n",
        "\n",
        "   percent_dbp_5 = (len(test_dbp_5)/len(test_y['SBP'])) * 100\n",
        "   percent_dbp_10 = (len(test_dbp_10)/len(test_y['SBP'])) * 100\n",
        "   percent_dbp_15 = (len(test_dbp_15)/len(test_y['SBP'])) * 100\n",
        "\n",
        "   percent_map_5 = (len(test_map_5)/len(test_y['SBP'])) * 100\n",
        "   percent_map_10 = (len(test_map_10)/len(test_y['SBP'])) * 100\n",
        "   percent_map_15 = (len(test_map_15)/len(test_y['SBP'])) * 100\n",
        "\n",
        "   return {\n",
        "      'MAE SBP' : mae_sbp,\n",
        "      'SD SBP' : sd_sbp,\n",
        "      'MAE DBP' : mae_dbp,\n",
        "      'SD DBP' : sd_dbp,\n",
        "      'MAE MAP' : mae_map,\n",
        "      'SD MAP' : sd_map,\n",
        "      'SBP < 5' : percent_sbp_5,\n",
        "      'SBP < 10' : percent_sbp_10,\n",
        "      'SBP < 15' : percent_sbp_15,\n",
        "      'DBP < 5' : percent_dbp_5,\n",
        "      'DBP < 10' : percent_dbp_10,\n",
        "      'DBP < 15' : percent_dbp_15,\n",
        "      'MAP < 5' : percent_map_5,\n",
        "      'MAP < 10' : percent_map_10,\n",
        "      'MAP < 15' : percent_map_15,\n",
        "   }\n",
        "\n"
      ]
    },
    {
      "cell_type": "markdown",
      "metadata": {
        "id": "qHlFsnW76rlk"
      },
      "source": [
        "## Segregating the Dataset into Hypo, Normo and Hyper tensive"
      ]
    },
    {
      "cell_type": "code",
      "execution_count": null,
      "metadata": {
        "id": "3TSrcByR6rlk"
      },
      "outputs": [],
      "source": [
        "test_y_hypo = []\n",
        "test_x_hypo = []\n",
        "\n",
        "test_y_normo = []\n",
        "test_x_normo = []\n",
        "\n",
        "test_y_hyper = []\n",
        "test_x_hyper = []\n",
        "\n",
        "for i in range(test_y.shape[0]):\n",
        "    \n",
        "    if(test_y[i][0]<90 or test_y[i][1]<60):\n",
        "        test_y_hypo.append([test_y[i][0],test_y[i][1]])\n",
        "        test_x_hypo.append(test_x[i,:,:])\n",
        "    \n",
        "    elif(test_y[i][0]>140 or test_y[i][1]>90):\n",
        "        test_y_hyper.append([test_y[i][0],test_y[i][1]])\n",
        "        test_x_hyper.append(test_x[i,:,:])\n",
        "\n",
        "    else:\n",
        "        test_y_normo.append([test_y[i][0],test_y[i][1]])\n",
        "        test_x_normo.append(test_x[i,:,:])"
      ]
    },
    {
      "cell_type": "code",
      "execution_count": null,
      "metadata": {
        "id": "OH7cYLNI6rlk"
      },
      "outputs": [],
      "source": [
        "hypo_results = test_dataset(model=model, test_x=np.array(test_x_hypo), test_y=np.array(test_y_hypo))"
      ]
    },
    {
      "cell_type": "code",
      "execution_count": null,
      "metadata": {
        "colab": {
          "base_uri": "https://localhost:8080/"
        },
        "id": "6V_ZtzUV6rlk",
        "outputId": "1ca2153c-604c-4b7e-afd9-3968c0078e70"
      },
      "outputs": [
        {
          "data": {
            "text/plain": [
              "{'DBP < 10': 95.65217391304348,\n",
              " 'DBP < 15': 100.0,\n",
              " 'DBP < 5': 73.91304347826086,\n",
              " 'MAE DBP': 3.711205201729429,\n",
              " 'MAE MAP': 6.417998183939375,\n",
              " 'MAE SBP': 19.253994551818124,\n",
              " 'MAP < 10': 60.86956521739131,\n",
              " 'MAP < 15': 73.91304347826086,\n",
              " 'MAP < 5': 47.82608695652174,\n",
              " 'SBP < 10': 47.82608695652174,\n",
              " 'SBP < 15': 60.86956521739131,\n",
              " 'SBP < 5': 30.434782608695656,\n",
              " 'SD DBP': 5.6001627594904555,\n",
              " 'SD MAP': 7.463538298605689,\n",
              " 'SD SBP': 19.34268284023256}"
            ]
          },
          "execution_count": 15,
          "metadata": {},
          "output_type": "execute_result"
        }
      ],
      "source": [
        "hypo_results"
      ]
    },
    {
      "cell_type": "code",
      "execution_count": null,
      "metadata": {
        "colab": {
          "base_uri": "https://localhost:8080/"
        },
        "id": "HYMG9ZC26rll",
        "outputId": "7826378c-a12c-4bc8-b6a4-dbca5ebd3dbd"
      },
      "outputs": [
        {
          "data": {
            "text/plain": [
              "(23, 250, 2)"
            ]
          },
          "execution_count": 16,
          "metadata": {},
          "output_type": "execute_result"
        }
      ],
      "source": [
        "np.array(test_x_hypo).shape"
      ]
    },
    {
      "cell_type": "code",
      "execution_count": null,
      "metadata": {
        "colab": {
          "base_uri": "https://localhost:8080/"
        },
        "id": "okS74tEh6rll",
        "outputId": "1941d2b8-1bea-4111-8249-c338dfc93f9d"
      },
      "outputs": [
        {
          "data": {
            "text/plain": [
              "(23, 2)"
            ]
          },
          "execution_count": 17,
          "metadata": {},
          "output_type": "execute_result"
        }
      ],
      "source": [
        "np.array(test_y_hypo).shape"
      ]
    },
    {
      "cell_type": "code",
      "execution_count": null,
      "metadata": {
        "id": "XOdCpiRr6rll"
      },
      "outputs": [],
      "source": [
        "hyper_results = test_dataset(model=model, test_x=np.array(test_x_hyper), test_y=np.array(test_y_hyper))"
      ]
    },
    {
      "cell_type": "code",
      "execution_count": null,
      "metadata": {
        "colab": {
          "base_uri": "https://localhost:8080/"
        },
        "id": "5zc5NRPa6rll",
        "outputId": "dc37f18b-f12e-4066-a401-56320ac76060"
      },
      "outputs": [
        {
          "data": {
            "text/plain": [
              "{'DBP < 10': 85.28935653581546,\n",
              " 'DBP < 15': 94.15216511533792,\n",
              " 'DBP < 5': 59.773371104815865,\n",
              " 'MAE DBP': 5.49163001272182,\n",
              " 'MAE MAP': 3.214234367375821,\n",
              " 'MAE SBP': 9.642703102127465,\n",
              " 'MAP < 10': 78.46013759611493,\n",
              " 'MAP < 15': 91.9971671388102,\n",
              " 'MAP < 5': 45.69000404694455,\n",
              " 'SBP < 10': 63.891137191420476,\n",
              " 'SBP < 15': 77.7114528530959,\n",
              " 'SBP < 5': 41.07648725212464,\n",
              " 'SD DBP': 6.283576299598315,\n",
              " 'SD MAP': 6.683830327790897,\n",
              " 'SD SBP': 11.631161323724202}"
            ]
          },
          "execution_count": 19,
          "metadata": {},
          "output_type": "execute_result"
        }
      ],
      "source": [
        "hyper_results"
      ]
    },
    {
      "cell_type": "code",
      "execution_count": null,
      "metadata": {
        "colab": {
          "base_uri": "https://localhost:8080/"
        },
        "id": "0EpeI4-46rll",
        "outputId": "45a18e11-ea48-43a8-ad9b-79e490f08585"
      },
      "outputs": [
        {
          "data": {
            "text/plain": [
              "(9884, 250, 2)"
            ]
          },
          "execution_count": 20,
          "metadata": {},
          "output_type": "execute_result"
        }
      ],
      "source": [
        "np.array(test_x_hyper).shape"
      ]
    },
    {
      "cell_type": "code",
      "execution_count": null,
      "metadata": {
        "id": "armXtGiO6rlm"
      },
      "outputs": [],
      "source": [
        "normo_results = test_dataset(model=model, test_x=np.array(test_x_normo), test_y=np.array(test_y_normo))"
      ]
    },
    {
      "cell_type": "code",
      "execution_count": null,
      "metadata": {
        "colab": {
          "base_uri": "https://localhost:8080/"
        },
        "id": "vGrgoAd56rlm",
        "outputId": "2c046638-1ccd-4d84-9d3b-35ac6024417a"
      },
      "outputs": [
        {
          "data": {
            "text/plain": [
              "{'DBP < 10': 88.982292970846,\n",
              " 'DBP < 15': 97.44231801108924,\n",
              " 'DBP < 5': 61.849400822750844,\n",
              " 'MAE DBP': 4.838540734110629,\n",
              " 'MAE MAP': 3.076932618046957,\n",
              " 'MAE SBP': 9.230797854140869,\n",
              " 'MAP < 10': 81.33607583616526,\n",
              " 'MAP < 15': 93.37327848327669,\n",
              " 'MAP < 5': 50.51869075299589,\n",
              " 'SBP < 10': 67.00053657664104,\n",
              " 'SBP < 15': 79.88731890538365,\n",
              " 'SBP < 5': 43.53425147558576,\n",
              " 'SD DBP': 5.447538125952652,\n",
              " 'SD MAP': 6.3245954377319356,\n",
              " 'SD SBP': 12.387575851099143}"
            ]
          },
          "execution_count": 22,
          "metadata": {},
          "output_type": "execute_result"
        }
      ],
      "source": [
        "normo_results"
      ]
    }
  ],
  "metadata": {
    "colab": {
      "provenance": []
    },
    "kernelspec": {
      "display_name": "Python 3.9.6 64-bit",
      "language": "python",
      "name": "python3"
    },
    "language_info": {
      "codemirror_mode": {
        "name": "ipython",
        "version": 3
      },
      "file_extension": ".py",
      "mimetype": "text/x-python",
      "name": "python",
      "nbconvert_exporter": "python",
      "pygments_lexer": "ipython3",
      "version": "3.9.6"
    },
    "orig_nbformat": 4,
    "vscode": {
      "interpreter": {
        "hash": "31f2aee4e71d21fbe5cf8b01ff0e069b9275f58929596ceb00d14d90e3e16cd6"
      }
    }
  },
  "nbformat": 4,
  "nbformat_minor": 0
}
