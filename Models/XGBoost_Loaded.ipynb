{
  "cells": [
    {
      "cell_type": "markdown",
      "metadata": {
        "id": "7z5NPZsSYU6j"
      },
      "source": [
        "# Imports and Setup"
      ]
    },
    {
      "cell_type": "code",
      "execution_count": null,
      "metadata": {
        "id": "kDgZjSypYU6k",
        "outputId": "0d3d31ea-2995-4bfa-f769-75f5e3fdcc4b"
      },
      "outputs": [],
      "source": [
        "import numpy as np\n",
        "import pandas as pd\n",
        "from sklearn.preprocessing import MinMaxScaler\n",
        "from sklearn.metrics import mean_absolute_error, mean_squared_error\n",
        "from sklearn.model_selection import train_test_split\n",
        "import os\n",
        "import math\n",
        "import glob\n",
        "import scipy\n",
        "!pip install tensorflow_datasets\n",
        "import tensorflow_datasets as tfds\n",
        "!pip install xgboost\n",
        "\n",
        "from csv import writer\n",
        "\n",
        "from statistics import stdev\n",
        "\n",
        "import pickle\n",
        "import matplotlib.pyplot as plt"
      ]
    },
    {
      "cell_type": "markdown",
      "metadata": {
        "id": "7cnKN2mQYU6l"
      },
      "source": [
        "# Loading the Data"
      ]
    },
    {
      "cell_type": "code",
      "execution_count": null,
      "metadata": {
        "id": "tUWQQyWQYU6l"
      },
      "outputs": [],
      "source": [
        "filename = 'Data/75.pkl'\n",
        "\n",
        "with open(filename, 'rb') as f:\n",
        "    train_x, train_y, max_ABP = pickle.load(f)"
      ]
    },
    {
      "cell_type": "code",
      "execution_count": null,
      "metadata": {
        "id": "fdY-7lqSYU6l"
      },
      "outputs": [],
      "source": [
        "inputs = train_x\n",
        "targets = train_y"
      ]
    },
    {
      "cell_type": "code",
      "execution_count": null,
      "metadata": {
        "id": "939wv_D9YU6l"
      },
      "outputs": [],
      "source": [
        "train_x = train_x.reshape(train_x.shape[0], train_x.shape[1]*train_x.shape[2])"
      ]
    },
    {
      "cell_type": "code",
      "execution_count": null,
      "metadata": {
        "id": "g2oWkSL2YU6l",
        "outputId": "32af4b21-e582-48e2-9fe1-08dbf3582d0e"
      },
      "outputs": [
        {
          "data": {
            "text/plain": [
              "(105443, 500)"
            ]
          },
          "execution_count": 5,
          "metadata": {},
          "output_type": "execute_result"
        }
      ],
      "source": [
        "train_x.shape"
      ]
    },
    {
      "cell_type": "code",
      "execution_count": null,
      "metadata": {
        "id": "jhfAHBbGYU6m",
        "outputId": "0618bdca-ba47-4709-fe11-1bd8b1f9c690"
      },
      "outputs": [
        {
          "data": {
            "text/plain": [
              "(105443, 2)"
            ]
          },
          "execution_count": 6,
          "metadata": {},
          "output_type": "execute_result"
        }
      ],
      "source": [
        "train_y.shape"
      ]
    },
    {
      "cell_type": "code",
      "execution_count": null,
      "metadata": {
        "id": "nQC_1QpaYU6m"
      },
      "outputs": [],
      "source": [
        "train_x, test_x, train_y, test_y = train_test_split(train_x, train_y, test_size=0.20, shuffle=True)"
      ]
    },
    {
      "cell_type": "code",
      "execution_count": null,
      "metadata": {
        "id": "kS73sHN_YU6m"
      },
      "outputs": [],
      "source": [
        "test_y = test_y*max_ABP"
      ]
    },
    {
      "cell_type": "markdown",
      "metadata": {
        "id": "Z71-CGoCYU6m"
      },
      "source": [
        "# XGBoost Model"
      ]
    },
    {
      "cell_type": "code",
      "execution_count": null,
      "metadata": {
        "id": "lX_j1dO-YU6m",
        "outputId": "d7cfbc11-fc27-40cb-8e58-dddd7bddd281"
      },
      "outputs": [
        {
          "data": {
            "text/plain": [
              "XGBRegressor(base_score=0.5, booster='gbtree', callbacks=None,\n",
              "             colsample_bylevel=1, colsample_bynode=1, colsample_bytree=1,\n",
              "             early_stopping_rounds=None, enable_categorical=False,\n",
              "             eval_metric=None, gamma=0, gpu_id=-1, grow_policy='depthwise',\n",
              "             importance_type=None, interaction_constraints='',\n",
              "             learning_rate=0.300000012, max_bin=256, max_cat_to_onehot=4,\n",
              "             max_delta_step=0, max_depth=7, max_leaves=0, min_child_weight=1,\n",
              "             missing=nan, monotone_constraints='()', n_estimators=100, n_jobs=0,\n",
              "             num_parallel_tree=1, predictor='auto', random_state=0, reg_alpha=0,\n",
              "             reg_lambda=0.8, ...)"
            ]
          },
          "execution_count": 10,
          "metadata": {},
          "output_type": "execute_result"
        }
      ],
      "source": [
        "from sklearn.model_selection import cross_val_score\n",
        "from sklearn.model_selection import RepeatedKFold\n",
        "from xgboost import XGBRegressor\n",
        "\n",
        "model = XGBRegressor(\n",
        "    n_estimators=100,\n",
        "    reg_lambda=0.8, #0.8-1\n",
        "    gamma=0, #0, 0.1, 0.2\n",
        "    max_depth=7, #3-10 \n",
        ")\n",
        "model.fit(train_x,train_y)"
      ]
    },
    {
      "cell_type": "markdown",
      "metadata": {
        "id": "R_UMzIy-YU6m"
      },
      "source": [
        "# Relevant Plots"
      ]
    },
    {
      "cell_type": "markdown",
      "metadata": {},
      "source": [
        "## Training"
      ]
    },
    {
      "cell_type": "code",
      "execution_count": null,
      "metadata": {
        "id": "jbGCm6TDYU6m",
        "outputId": "66db5571-12d1-4e4b-b7de-22b9a117dfd6"
      },
      "outputs": [
        {
          "data": {
            "image/png": "[encoded data removed]",
            "text/plain": [
              "<Figure size 432x288 with 1 Axes>"
            ]
          },
          "metadata": {
            "needs_background": "light"
          },
          "output_type": "display_data"
        },
        {
          "data": {
            "image/png": "[encoded data removed]",
            "text/plain": [
              "<Figure size 432x288 with 1 Axes>"
            ]
          },
          "metadata": {
            "needs_background": "light"
          },
          "output_type": "display_data"
        }
      ],
      "source": [
        "train_predicted = model.predict(train_x)\n",
        "\n",
        "plt.plot(train_y[:,0]*max_ABP, color='r', label = 'Actual')\n",
        "plt.plot(train_predicted[:,0]*max_ABP, color='b', label = 'Predicted')\n",
        "plt.legend()\n",
        "plt.title('Training : SBP Predictions')\n",
        "\n",
        "plt.show()\n",
        "\n",
        "plt.plot(train_y[:,1]*max_ABP, color='r', label = 'Actual')\n",
        "plt.plot(train_predicted[:,1]*max_ABP, color='b', label = 'Predicted')\n",
        "plt.legend()\n",
        "plt.title('Training : DBP Predictions')\n",
        "\n",
        "plt.show()"
      ]
    },
    {
      "cell_type": "markdown",
      "metadata": {},
      "source": [
        "## Testing"
      ]
    },
    {
      "cell_type": "code",
      "execution_count": null,
      "metadata": {
        "id": "3oBZhIVYYU6n",
        "outputId": "c1aa6d05-4018-4460-d399-ac3408f02211"
      },
      "outputs": [
        {
          "data": {
            "image/png": "[encoded data removed]",
            "text/plain": [
              "<Figure size 432x288 with 1 Axes>"
            ]
          },
          "metadata": {
            "needs_background": "light"
          },
          "output_type": "display_data"
        },
        {
          "data": {
            "image/png": "[encoded data removed]",
            "text/plain": [
              "<Figure size 432x288 with 1 Axes>"
            ]
          },
          "metadata": {
            "needs_background": "light"
          },
          "output_type": "display_data"
        }
      ],
      "source": [
        "test_predicted = model.predict(test_x)\n",
        "\n",
        "plt.plot(test_y[:,0], color='r', label = 'Actual')\n",
        "plt.plot(test_predicted[:,0]*max_ABP, color='b', label = 'Predicted')\n",
        "plt.legend()\n",
        "plt.title('Testing : SBP Predictions')\n",
        "\n",
        "plt.show()\n",
        "\n",
        "plt.plot(test_y[:,1], color='r', label = 'Actual')\n",
        "plt.plot(test_predicted[:,1]*max_ABP, color='b', label = 'Predicted')\n",
        "plt.legend()\n",
        "plt.title('Testing: DBP Predictions')\n",
        "\n",
        "plt.show()"
      ]
    },
    {
      "cell_type": "markdown",
      "metadata": {
        "id": "ETh9z7o2YU6n"
      },
      "source": [
        "# Evaluating the Model\n",
        "Kindly refer the excel sheet attached in the repository"
      ]
    },
    {
      "cell_type": "code",
      "execution_count": null,
      "metadata": {
        "id": "czbUCmOvYU6n"
      },
      "outputs": [],
      "source": [
        "def test_dataset(test_x, test_y, model):\n",
        "   \n",
        "   predicted = model.predict(test_x)\n",
        "   predicted = predicted*max_ABP\n",
        "\n",
        "   predicted = pd.DataFrame(predicted, columns=['SBP', 'DBP'])\n",
        "   test_y = pd.DataFrame(test_y, columns=['SBP', 'DBP'])\n",
        "\n",
        "   mae_sbp  =   mean_absolute_error(test_y['SBP'], predicted['SBP'])\n",
        "   sd_sbp =    stdev(predicted['SBP'])\n",
        "   mae_dbp  =   mean_absolute_error(test_y['DBP'], predicted['DBP'])\n",
        "   sd_dbp =    stdev(predicted['DBP'])\n",
        "   mae_map = mean_absolute_error((test_y['SBP'] + 2*test_y['DBP'])/3, (predicted['SBP'] + 2*test_y['DBP'])/3)\n",
        "   sd_map = stdev((predicted['SBP'] + 2*test_y['DBP'])/3)\n",
        "\n",
        "\n",
        "   sbp_diff = np.absolute(predicted['SBP'] - test_y['SBP'])\n",
        "   dbp_diff = np.absolute(predicted['DBP'] - test_y['DBP'])\n",
        "   map_diff = (sbp_diff + 2*dbp_diff)/3\n",
        "\n",
        "   #SBP\n",
        "   test_sbp_5 = []\n",
        "   predicted_sbp_5 = []\n",
        "\n",
        "   test_sbp_10 = []\n",
        "   predicted_sbp_10 = []\n",
        "\n",
        "   test_sbp_15 = []\n",
        "   predicted_sbp_15 = []\n",
        "\n",
        "\n",
        "   #DBP\n",
        "   test_dbp_5 = []\n",
        "   predicted_dbp_5 = []\n",
        "\n",
        "   test_dbp_10 = []\n",
        "   predicted_dbp_10 = []\n",
        "\n",
        "   test_dbp_15 = []\n",
        "   predicted_dbp_15 = []\n",
        "\n",
        "\n",
        "   #MAP\n",
        "   test_map_5 = []\n",
        "   predicted_map_5 = []\n",
        "\n",
        "   test_map_10 = []\n",
        "   predicted_map_10 = []\n",
        "\n",
        "   test_map_15 = []\n",
        "   predicted_map_15 = []\n",
        "\n",
        "   for i in range(len(sbp_diff)):\n",
        "      #SBP\n",
        "      if sbp_diff[i] <= 5:\n",
        "         test_sbp_5.append(test_y['SBP'][i])\n",
        "         predicted_sbp_5.append(predicted['SBP'][i])\n",
        "      \n",
        "      if(sbp_diff[i] <= 10):\n",
        "         test_sbp_10.append(test_y['SBP'][i])\n",
        "         predicted_sbp_10.append(predicted['SBP'][i])\n",
        "\n",
        "      if(sbp_diff[i] <= 15):\n",
        "         test_sbp_15.append(test_y['SBP'][i])\n",
        "         predicted_sbp_15.append(predicted['SBP'][i])\n",
        "\n",
        "      \n",
        "      #DBP\n",
        "      if dbp_diff[i] <= 5:\n",
        "         test_dbp_5.append(test_y['DBP'][i])\n",
        "         predicted_dbp_5.append(predicted['DBP'][i])\n",
        "      \n",
        "      if(dbp_diff[i] <= 10):\n",
        "         test_dbp_10.append(test_y['DBP'][i])\n",
        "         predicted_dbp_10.append(predicted['DBP'][i])\n",
        "\n",
        "      if(dbp_diff[i] <= 15):\n",
        "         test_dbp_15.append(test_y['DBP'][i])\n",
        "         predicted_dbp_15.append(predicted['DBP'][i])\n",
        "\n",
        "\n",
        "      #MAP\n",
        "      if map_diff[i] <= 5:\n",
        "         test_map_5.append((test_y['SBP'][i] + 2*test_y['DBP'][i])/3)\n",
        "         predicted_map_5.append((predicted['SBP'][i] + 2*test_y['DBP'][i])/3)\n",
        "      \n",
        "      if(map_diff[i] <= 10):\n",
        "         test_map_10.append((test_y['SBP'][i] + 2*test_y['DBP'][i])/3)\n",
        "         predicted_map_10.append((predicted['SBP'][i] + 2*test_y['DBP'][i])/3)\n",
        "\n",
        "      if(map_diff[i] <= 15):\n",
        "         test_map_15.append((test_y['SBP'][i] + 2*test_y['DBP'][i])/3)\n",
        "         predicted_map_15.append((predicted['SBP'][i] + 2*test_y['DBP'][i])/3)\n",
        "\n",
        "      \n",
        "   percent_sbp_5 = (len(test_sbp_5)/len(test_y['SBP'])) * 100\n",
        "   percent_sbp_10 = (len(test_sbp_10)/len(test_y['SBP'])) * 100\n",
        "   percent_sbp_15 = (len(test_sbp_15)/len(test_y['SBP'])) * 100\n",
        "\n",
        "   percent_dbp_5 = (len(test_dbp_5)/len(test_y['SBP'])) * 100\n",
        "   percent_dbp_10 = (len(test_dbp_10)/len(test_y['SBP'])) * 100\n",
        "   percent_dbp_15 = (len(test_dbp_15)/len(test_y['SBP'])) * 100\n",
        "\n",
        "   percent_map_5 = (len(test_map_5)/len(test_y['SBP'])) * 100\n",
        "   percent_map_10 = (len(test_map_10)/len(test_y['SBP'])) * 100\n",
        "   percent_map_15 = (len(test_map_15)/len(test_y['SBP'])) * 100\n",
        "\n",
        "   return {\n",
        "      'MAE SBP' : mae_sbp,\n",
        "      'SD SBP' : sd_sbp,\n",
        "      'MAE DBP' : mae_dbp,\n",
        "      'SD DBP' : sd_dbp,\n",
        "      'MAE MAP' : mae_map,\n",
        "      'SD MAP' : sd_map,\n",
        "      'SBP < 5' : percent_sbp_5,\n",
        "      'SBP < 10' : percent_sbp_10,\n",
        "      'SBP < 15' : percent_sbp_15,\n",
        "      'DBP < 5' : percent_dbp_5,\n",
        "      'DBP < 10' : percent_dbp_10,\n",
        "      'DBP < 15' : percent_dbp_15,\n",
        "      'MAP < 5' : percent_map_5,\n",
        "      'MAP < 10' : percent_map_10,\n",
        "      'MAP < 15' : percent_map_15,\n",
        "   }\n",
        "\n"
      ]
    },
    {
      "cell_type": "markdown",
      "metadata": {
        "id": "qHbGkQ_TYU6o"
      },
      "source": [
        "## Segregating the Dataset into Hypo, Normo and Hyper tensive"
      ]
    },
    {
      "cell_type": "code",
      "execution_count": null,
      "metadata": {
        "id": "vRlKpEpZYU6o"
      },
      "outputs": [],
      "source": [
        "test_y_hypo = []\n",
        "test_x_hypo = []\n",
        "\n",
        "test_y_normo = []\n",
        "test_x_normo = []\n",
        "\n",
        "test_y_hyper = []\n",
        "test_x_hyper = []\n",
        "\n",
        "for i in range(test_y.shape[0]):\n",
        "    \n",
        "    if(test_y[i][0]<90 or test_y[i][1]<60):\n",
        "        test_y_hypo.append([test_y[i][0],test_y[i][1]])\n",
        "        test_x_hypo.append(test_x[i])\n",
        "    \n",
        "    elif(test_y[i][0]>140 or test_y[i][1]>90):\n",
        "        test_y_hyper.append([test_y[i][0],test_y[i][1]])\n",
        "        test_x_hyper.append(test_x[i])\n",
        "\n",
        "    else:\n",
        "        test_y_normo.append([test_y[i][0],test_y[i][1]])\n",
        "        test_x_normo.append(test_x[i])"
      ]
    },
    {
      "cell_type": "code",
      "execution_count": null,
      "metadata": {
        "id": "AS4nQBu6YU6o"
      },
      "outputs": [],
      "source": [
        "hypo_results = test_dataset(model=model, test_x=np.array(test_x_hypo), test_y=np.array(test_y_hypo))"
      ]
    },
    {
      "cell_type": "code",
      "execution_count": null,
      "metadata": {
        "id": "r7M2Lf_UYU6o",
        "outputId": "178fd351-1593-4ca1-ecea-37a40491e4ca"
      },
      "outputs": [
        {
          "data": {
            "text/plain": [
              "{'MAE SBP': 28.284130268388772,\n",
              " 'SD SBP': 14.632020391538411,\n",
              " 'MAE DBP': 5.2097216676843034,\n",
              " 'SD DBP': 4.283944620248373,\n",
              " 'MAE MAP': 9.428043422796257,\n",
              " 'SD MAP': 6.477569170383045,\n",
              " 'SBP < 5': 8.333333333333332,\n",
              " 'SBP < 10': 11.11111111111111,\n",
              " 'SBP < 15': 19.444444444444446,\n",
              " 'DBP < 5': 44.44444444444444,\n",
              " 'DBP < 10': 88.88888888888889,\n",
              " 'DBP < 15': 100.0,\n",
              " 'MAP < 5': 11.11111111111111,\n",
              " 'MAP < 10': 27.77777777777778,\n",
              " 'MAP < 15': 66.66666666666666}"
            ]
          },
          "execution_count": 32,
          "metadata": {},
          "output_type": "execute_result"
        }
      ],
      "source": [
        "hypo_results"
      ]
    },
    {
      "cell_type": "code",
      "execution_count": null,
      "metadata": {
        "id": "LFkjo7vzYU6o",
        "outputId": "78cc1821-7ef7-4082-a9a9-3708dbca8739"
      },
      "outputs": [
        {
          "data": {
            "text/plain": [
              "(36, 500)"
            ]
          },
          "execution_count": 33,
          "metadata": {},
          "output_type": "execute_result"
        }
      ],
      "source": [
        "np.array(test_x_hypo).shape"
      ]
    },
    {
      "cell_type": "code",
      "execution_count": null,
      "metadata": {
        "id": "fVUE75VHYU6o"
      },
      "outputs": [],
      "source": [
        "hyper_results = test_dataset(model=model, test_x=np.array(test_x_hyper), test_y=np.array(test_y_hyper))"
      ]
    },
    {
      "cell_type": "code",
      "execution_count": null,
      "metadata": {
        "id": "pph5YBuTYU6o",
        "outputId": "ca15e208-684c-4e1f-c45d-8adfe4638f31"
      },
      "outputs": [
        {
          "data": {
            "text/plain": [
              "{'MAE SBP': 9.684224236526799,\n",
              " 'SD SBP': 9.061221978577324,\n",
              " 'MAE DBP': 5.196072219524118,\n",
              " 'SD DBP': 5.590973552022742,\n",
              " 'MAE MAP': 3.2280747455089336,\n",
              " 'SD MAP': 6.409927525420274,\n",
              " 'SBP < 5': 30.640414087080075,\n",
              " 'SBP < 10': 58.6318887648432,\n",
              " 'SBP < 15': 78.89982746371663,\n",
              " 'DBP < 5': 61.534558002638796,\n",
              " 'DBP < 10': 86.46097635237999,\n",
              " 'DBP < 15': 94.94570181670558,\n",
              " 'MAP < 5': 41.520349132243986,\n",
              " 'MAP < 10': 81.58936364559017,\n",
              " 'MAP < 15': 95.28062519029737}"
            ]
          },
          "execution_count": 35,
          "metadata": {},
          "output_type": "execute_result"
        }
      ],
      "source": [
        "hyper_results"
      ]
    },
    {
      "cell_type": "code",
      "execution_count": null,
      "metadata": {
        "id": "yHAQ0x6TYU6o",
        "outputId": "8dc38872-391f-44e0-bbac-dacb4aec9dcf"
      },
      "outputs": [
        {
          "data": {
            "text/plain": [
              "(9853, 500)"
            ]
          },
          "execution_count": 36,
          "metadata": {},
          "output_type": "execute_result"
        }
      ],
      "source": [
        "np.array(test_x_hyper).shape"
      ]
    },
    {
      "cell_type": "code",
      "execution_count": null,
      "metadata": {
        "id": "35HmJREYYU6p"
      },
      "outputs": [],
      "source": [
        "normo_results = test_dataset(model=model, test_x=np.array(test_x_normo), test_y=np.array(test_y_normo))"
      ]
    },
    {
      "cell_type": "code",
      "execution_count": null,
      "metadata": {
        "id": "qpdiMOqeYU6p",
        "outputId": "c8a29feb-c684-4195-fd44-d7993e2b4360"
      },
      "outputs": [
        {
          "data": {
            "text/plain": [
              "{'MAE SBP': 8.869875421252045,\n",
              " 'SD SBP': 9.362106174131581,\n",
              " 'MAE DBP': 4.190614117068439,\n",
              " 'SD DBP': 4.7240607491971325,\n",
              " 'MAE MAP': 2.956625140417348,\n",
              " 'SD MAP': 5.6458371309838284,\n",
              " 'SBP < 5': 37.83035714285714,\n",
              " 'SBP < 10': 65.52678571428572,\n",
              " 'SBP < 15': 82.0,\n",
              " 'DBP < 5': 65.20535714285714,\n",
              " 'DBP < 10': 94.33928571428571,\n",
              " 'DBP < 15': 99.41964285714285,\n",
              " 'MAP < 5': 49.294642857142854,\n",
              " 'MAP < 10': 87.32142857142857,\n",
              " 'MAP < 15': 98.25892857142857}"
            ]
          },
          "execution_count": 38,
          "metadata": {},
          "output_type": "execute_result"
        }
      ],
      "source": [
        "normo_results"
      ]
    },
    {
      "cell_type": "code",
      "execution_count": null,
      "metadata": {
        "id": "-LtomZV5YU6p",
        "outputId": "fa81d2ba-e85f-4ef8-c60f-afa675908583"
      },
      "outputs": [
        {
          "data": {
            "text/plain": [
              "(11200, 500)"
            ]
          },
          "execution_count": 39,
          "metadata": {},
          "output_type": "execute_result"
        }
      ],
      "source": [
        "np.array(test_x_normo).shape"
      ]
    }
  ],
  "metadata": {
    "colab": {
      "provenance": []
    },
    "interpreter": {
      "hash": "31f2aee4e71d21fbe5cf8b01ff0e069b9275f58929596ceb00d14d90e3e16cd6"
    },
    "kernelspec": {
      "display_name": "Python 3.6.9 64-bit",
      "language": "python",
      "name": "python3"
    },
    "language_info": {
      "codemirror_mode": {
        "name": "ipython",
        "version": 3
      },
      "file_extension": ".py",
      "mimetype": "text/x-python",
      "name": "python",
      "nbconvert_exporter": "python",
      "pygments_lexer": "ipython3",
      "version": "3.9.6"
    },
    "orig_nbformat": 4
  },
  "nbformat": 4,
  "nbformat_minor": 0
}
