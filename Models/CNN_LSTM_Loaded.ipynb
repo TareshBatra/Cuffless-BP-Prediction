{
  "cells": [
    {
      "cell_type": "markdown",
      "metadata": {
        "id": "kZ5sA1vf5cwA"
      },
      "source": [
        "Imports"
      ]
    },
    {
      "cell_type": "code",
      "execution_count": null,
      "metadata": {
        "id": "L8_CFcIO5cwF"
      },
      "outputs": [],
      "source": [
        "import pandas as pd\n",
        "import numpy as np\n",
        "from tensorflow import keras\n",
        "from tensorflow.keras.models import Sequential\n",
        "from tensorflow.keras.layers import Dense, BatchNormalization, LSTM, ConvLSTM2D, TimeDistributed, RepeatVector, Flatten, Conv2D, MaxPooling2D, Dropout, Reshape, LeakyReLU, Conv1D, MaxPooling1D,Conv1DTranspose\n",
        "from tensorflow.keras import initializers\n",
        "import tensorflow as tf\n",
        "from sklearn.preprocessing import MinMaxScaler\n",
        "from sklearn.metrics import mean_absolute_error, mean_squared_error\n",
        "from sklearn.model_selection import train_test_split\n",
        "import os\n",
        "import math\n",
        "import glob\n",
        "import scipy\n",
        "\n",
        "from statistics import stdev\n",
        "\n",
        "import pickle\n",
        "import matplotlib.pyplot as plt"
      ]
    },
    {
      "cell_type": "markdown",
      "metadata": {
        "id": "Lp_BTIub5cwH"
      },
      "source": [
        "Loading the Data"
      ]
    },
    {
      "cell_type": "code",
      "execution_count": null,
      "metadata": {
        "id": "P3Np7YG05cwH"
      },
      "outputs": [],
      "source": [
        "from google.colab import drive\n",
        "drive.mount('/content/drive')\n",
        "\n",
        "filename = '/content/drive/MyDrive/4-2/BP Paper New/Data/Windowed_Vals/75.pkl'\n",
        "\n",
        "with open(filename, 'rb') as f:\n",
        "    train_x, train_y, max_ABP = pickle.load(f)"
      ]
    },
    {
      "cell_type": "code",
      "execution_count": null,
      "metadata": {
        "id": "xQJYdM1s5cwI"
      },
      "outputs": [],
      "source": [
        "inputs = train_x\n",
        "targets = train_y"
      ]
    },
    {
      "cell_type": "code",
      "execution_count": null,
      "metadata": {
        "colab": {
          "base_uri": "https://localhost:8080/"
        },
        "id": "-TXF7bPU5cwI",
        "outputId": "dc187868-ea40-4384-ce35-dad5148bac7a"
      },
      "outputs": [
        {
          "output_type": "execute_result",
          "data": {
            "text/plain": [
              "(105443, 250, 2)"
            ]
          },
          "metadata": {},
          "execution_count": 9
        }
      ],
      "source": [
        "train_x.shape"
      ]
    },
    {
      "cell_type": "code",
      "execution_count": null,
      "metadata": {
        "colab": {
          "base_uri": "https://localhost:8080/"
        },
        "id": "admH-HKa5cwI",
        "outputId": "1abf417a-25bc-46f4-8ed4-f0c433f21acb"
      },
      "outputs": [
        {
          "output_type": "execute_result",
          "data": {
            "text/plain": [
              "(105443, 2)"
            ]
          },
          "metadata": {},
          "execution_count": 10
        }
      ],
      "source": [
        "train_y.shape"
      ]
    },
    {
      "cell_type": "code",
      "execution_count": null,
      "metadata": {
        "id": "Fa5KX36O5cwJ"
      },
      "outputs": [],
      "source": [
        "train_x, test_x, train_y, test_y = train_test_split(train_x, train_y, test_size=0.20, shuffle=True)"
      ]
    },
    {
      "cell_type": "code",
      "execution_count": null,
      "metadata": {
        "id": "WOCIFIfY5cwK"
      },
      "outputs": [],
      "source": [
        "test_y = test_y*max_ABP"
      ]
    },
    {
      "cell_type": "markdown",
      "metadata": {
        "id": "t66tCX735cwL"
      },
      "source": [
        "CNN LSTM Model"
      ]
    },
    {
      "cell_type": "code",
      "execution_count": null,
      "metadata": {
        "id": "YfWyEjQK5cwM"
      },
      "outputs": [],
      "source": [
        "model = Sequential()\n",
        "\n",
        "model.add(Conv1D(filters=20, kernel_size=(9), activation='relu'))\n",
        "model.add(MaxPooling1D((4)))\n",
        "# model.add(Dropout(0.1))\n",
        "model.add(Conv1D(filters=20, kernel_size=(9), activation='relu'))\n",
        "model.add(MaxPooling1D((4)))\n",
        "# model.add(Dropout(0.1))\n",
        "model.add(Reshape((13,20)))\n",
        "\n",
        "model.add(Dropout(0.1))\n",
        "\n",
        "model.add(tf.keras.layers.Bidirectional(LSTM(units=64, activation='tanh', return_sequences=True), merge_mode=\"concat\"))\n",
        "# model.add(Dropout(0.1))\n",
        "model.add(LSTM(units=64, activation='tanh'))\n",
        "# model.add(Dropout(0.1))\n",
        "\n",
        "model.add(Dense(32, activation='relu'))\n",
        "model.add(Dropout(0.1))\n",
        "model.add(Dense(8, activation='relu'))\n",
        "# model.add(Dropout(0.1))\n",
        "model.add(Dense(2, activation='linear', kernel_regularizer = tf.keras.regularizers.l1_l2(l1=0.00, l2=0.001)))"
      ]
    },
    {
      "cell_type": "code",
      "execution_count": null,
      "metadata": {
        "colab": {
          "base_uri": "https://localhost:8080/"
        },
        "id": "CBT1Mdwd5cwM",
        "outputId": "4b6b16ae-811e-4712-86b2-232b8adb7fb4"
      },
      "outputs": [
        {
          "output_type": "stream",
          "name": "stdout",
          "text": [
            "Epoch 1/50\n",
            "338/338 [==============================] - 27s 28ms/step - loss: 0.0708 - mean_absolute_error: 0.0686 - val_loss: 0.0533 - val_mean_absolute_error: 0.0516 - lr: 0.0100\n",
            "Epoch 2/50\n",
            "338/338 [==============================] - 7s 21ms/step - loss: 0.0456 - mean_absolute_error: 0.0442 - val_loss: 0.0457 - val_mean_absolute_error: 0.0447 - lr: 0.0100\n",
            "Epoch 3/50\n",
            "338/338 [==============================] - 9s 25ms/step - loss: 0.0416 - mean_absolute_error: 0.0407 - val_loss: 0.0378 - val_mean_absolute_error: 0.0372 - lr: 0.0100\n",
            "Epoch 4/50\n",
            "338/338 [==============================] - 10s 29ms/step - loss: 0.0389 - mean_absolute_error: 0.0383 - val_loss: 0.0366 - val_mean_absolute_error: 0.0361 - lr: 0.0100\n",
            "Epoch 5/50\n",
            "338/338 [==============================] - 9s 27ms/step - loss: 0.0376 - mean_absolute_error: 0.0371 - val_loss: 0.0360 - val_mean_absolute_error: 0.0356 - lr: 0.0100\n",
            "Epoch 6/50\n",
            "338/338 [==============================] - 8s 24ms/step - loss: 0.0360 - mean_absolute_error: 0.0356 - val_loss: 0.0368 - val_mean_absolute_error: 0.0364 - lr: 0.0100\n",
            "Epoch 7/50\n",
            "338/338 [==============================] - 8s 25ms/step - loss: 0.0347 - mean_absolute_error: 0.0344 - val_loss: 0.0345 - val_mean_absolute_error: 0.0342 - lr: 0.0100\n",
            "Epoch 8/50\n",
            "338/338 [==============================] - 8s 25ms/step - loss: 0.0338 - mean_absolute_error: 0.0336 - val_loss: 0.0336 - val_mean_absolute_error: 0.0334 - lr: 0.0100\n",
            "Epoch 9/50\n",
            "338/338 [==============================] - 8s 24ms/step - loss: 0.0327 - mean_absolute_error: 0.0325 - val_loss: 0.0319 - val_mean_absolute_error: 0.0317 - lr: 0.0100\n",
            "Epoch 10/50\n",
            "338/338 [==============================] - 8s 24ms/step - loss: 0.0321 - mean_absolute_error: 0.0320 - val_loss: 0.0306 - val_mean_absolute_error: 0.0305 - lr: 0.0100\n",
            "Epoch 11/50\n",
            "338/338 [==============================] - 8s 25ms/step - loss: 0.0316 - mean_absolute_error: 0.0315 - val_loss: 0.0303 - val_mean_absolute_error: 0.0301 - lr: 0.0100\n",
            "Epoch 12/50\n",
            "338/338 [==============================] - 8s 24ms/step - loss: 0.0312 - mean_absolute_error: 0.0311 - val_loss: 0.0317 - val_mean_absolute_error: 0.0315 - lr: 0.0100\n",
            "Epoch 13/50\n",
            "338/338 [==============================] - 8s 25ms/step - loss: 0.0309 - mean_absolute_error: 0.0308 - val_loss: 0.0318 - val_mean_absolute_error: 0.0317 - lr: 0.0100\n",
            "Epoch 14/50\n",
            "338/338 [==============================] - 8s 25ms/step - loss: 0.0304 - mean_absolute_error: 0.0303 - val_loss: 0.0307 - val_mean_absolute_error: 0.0306 - lr: 0.0100\n",
            "Epoch 15/50\n",
            "338/338 [==============================] - 8s 25ms/step - loss: 0.0279 - mean_absolute_error: 0.0278 - val_loss: 0.0283 - val_mean_absolute_error: 0.0282 - lr: 0.0020\n",
            "Epoch 16/50\n",
            "338/338 [==============================] - 8s 25ms/step - loss: 0.0273 - mean_absolute_error: 0.0272 - val_loss: 0.0276 - val_mean_absolute_error: 0.0275 - lr: 0.0020\n",
            "Epoch 17/50\n",
            "338/338 [==============================] - 8s 25ms/step - loss: 0.0271 - mean_absolute_error: 0.0270 - val_loss: 0.0274 - val_mean_absolute_error: 0.0273 - lr: 0.0020\n",
            "Epoch 18/50\n",
            "338/338 [==============================] - 9s 26ms/step - loss: 0.0269 - mean_absolute_error: 0.0268 - val_loss: 0.0268 - val_mean_absolute_error: 0.0267 - lr: 0.0020\n",
            "Epoch 19/50\n",
            "338/338 [==============================] - 8s 25ms/step - loss: 0.0266 - mean_absolute_error: 0.0265 - val_loss: 0.0281 - val_mean_absolute_error: 0.0280 - lr: 0.0020\n",
            "Epoch 20/50\n",
            "338/338 [==============================] - 8s 25ms/step - loss: 0.0264 - mean_absolute_error: 0.0263 - val_loss: 0.0264 - val_mean_absolute_error: 0.0263 - lr: 0.0020\n",
            "Epoch 21/50\n",
            "338/338 [==============================] - 8s 25ms/step - loss: 0.0262 - mean_absolute_error: 0.0261 - val_loss: 0.0264 - val_mean_absolute_error: 0.0263 - lr: 0.0020\n",
            "Epoch 22/50\n",
            "338/338 [==============================] - 8s 25ms/step - loss: 0.0259 - mean_absolute_error: 0.0258 - val_loss: 0.0262 - val_mean_absolute_error: 0.0261 - lr: 0.0020\n",
            "Epoch 23/50\n",
            "338/338 [==============================] - 8s 25ms/step - loss: 0.0258 - mean_absolute_error: 0.0257 - val_loss: 0.0257 - val_mean_absolute_error: 0.0256 - lr: 0.0020\n",
            "Epoch 24/50\n",
            "338/338 [==============================] - 8s 25ms/step - loss: 0.0256 - mean_absolute_error: 0.0256 - val_loss: 0.0253 - val_mean_absolute_error: 0.0252 - lr: 0.0020\n",
            "Epoch 25/50\n",
            "338/338 [==============================] - 8s 25ms/step - loss: 0.0253 - mean_absolute_error: 0.0253 - val_loss: 0.0262 - val_mean_absolute_error: 0.0261 - lr: 0.0020\n",
            "Epoch 26/50\n",
            "338/338 [==============================] - 8s 25ms/step - loss: 0.0252 - mean_absolute_error: 0.0251 - val_loss: 0.0254 - val_mean_absolute_error: 0.0253 - lr: 0.0020\n",
            "Epoch 27/50\n",
            "338/338 [==============================] - 8s 25ms/step - loss: 0.0250 - mean_absolute_error: 0.0250 - val_loss: 0.0254 - val_mean_absolute_error: 0.0253 - lr: 0.0020\n",
            "Epoch 28/50\n",
            "338/338 [==============================] - 9s 26ms/step - loss: 0.0240 - mean_absolute_error: 0.0239 - val_loss: 0.0248 - val_mean_absolute_error: 0.0247 - lr: 4.0000e-04\n",
            "Epoch 29/50\n",
            "338/338 [==============================] - 8s 25ms/step - loss: 0.0238 - mean_absolute_error: 0.0237 - val_loss: 0.0250 - val_mean_absolute_error: 0.0249 - lr: 4.0000e-04\n",
            "Epoch 30/50\n",
            "338/338 [==============================] - 8s 25ms/step - loss: 0.0238 - mean_absolute_error: 0.0237 - val_loss: 0.0248 - val_mean_absolute_error: 0.0247 - lr: 4.0000e-04\n",
            "Epoch 31/50\n",
            "338/338 [==============================] - 9s 25ms/step - loss: 0.0237 - mean_absolute_error: 0.0236 - val_loss: 0.0249 - val_mean_absolute_error: 0.0248 - lr: 4.0000e-04\n",
            "Epoch 32/50\n",
            "338/338 [==============================] - 8s 24ms/step - loss: 0.0234 - mean_absolute_error: 0.0233 - val_loss: 0.0246 - val_mean_absolute_error: 0.0246 - lr: 8.0000e-05\n",
            "Epoch 33/50\n",
            "338/338 [==============================] - 8s 24ms/step - loss: 0.0234 - mean_absolute_error: 0.0233 - val_loss: 0.0248 - val_mean_absolute_error: 0.0247 - lr: 8.0000e-05\n",
            "Epoch 34/50\n",
            "338/338 [==============================] - 8s 24ms/step - loss: 0.0234 - mean_absolute_error: 0.0233 - val_loss: 0.0247 - val_mean_absolute_error: 0.0246 - lr: 8.0000e-05\n",
            "Epoch 35/50\n",
            "338/338 [==============================] - 8s 24ms/step - loss: 0.0234 - mean_absolute_error: 0.0233 - val_loss: 0.0246 - val_mean_absolute_error: 0.0245 - lr: 8.0000e-05\n",
            "Epoch 36/50\n",
            "338/338 [==============================] - 8s 25ms/step - loss: 0.0233 - mean_absolute_error: 0.0232 - val_loss: 0.0246 - val_mean_absolute_error: 0.0246 - lr: 1.6000e-05\n",
            "Epoch 37/50\n",
            "338/338 [==============================] - 8s 25ms/step - loss: 0.0233 - mean_absolute_error: 0.0232 - val_loss: 0.0246 - val_mean_absolute_error: 0.0245 - lr: 1.6000e-05\n",
            "Epoch 38/50\n",
            "338/338 [==============================] - 8s 25ms/step - loss: 0.0233 - mean_absolute_error: 0.0233 - val_loss: 0.0247 - val_mean_absolute_error: 0.0247 - lr: 1.6000e-05\n",
            "Epoch 39/50\n",
            "338/338 [==============================] - 8s 25ms/step - loss: 0.0233 - mean_absolute_error: 0.0232 - val_loss: 0.0246 - val_mean_absolute_error: 0.0245 - lr: 3.2000e-06\n",
            "Epoch 40/50\n",
            "338/338 [==============================] - 8s 25ms/step - loss: 0.0233 - mean_absolute_error: 0.0232 - val_loss: 0.0246 - val_mean_absolute_error: 0.0245 - lr: 3.2000e-06\n",
            "Epoch 41/50\n",
            "338/338 [==============================] - 8s 25ms/step - loss: 0.0233 - mean_absolute_error: 0.0232 - val_loss: 0.0246 - val_mean_absolute_error: 0.0245 - lr: 3.2000e-06\n",
            "Epoch 42/50\n",
            "338/338 [==============================] - 8s 24ms/step - loss: 0.0233 - mean_absolute_error: 0.0232 - val_loss: 0.0246 - val_mean_absolute_error: 0.0245 - lr: 6.4000e-07\n",
            "Epoch 43/50\n",
            "338/338 [==============================] - 8s 24ms/step - loss: 0.0233 - mean_absolute_error: 0.0232 - val_loss: 0.0246 - val_mean_absolute_error: 0.0245 - lr: 6.4000e-07\n",
            "Epoch 44/50\n",
            "338/338 [==============================] - 8s 24ms/step - loss: 0.0233 - mean_absolute_error: 0.0232 - val_loss: 0.0246 - val_mean_absolute_error: 0.0245 - lr: 6.4000e-07\n",
            "Epoch 45/50\n",
            "338/338 [==============================] - 8s 25ms/step - loss: 0.0233 - mean_absolute_error: 0.0232 - val_loss: 0.0246 - val_mean_absolute_error: 0.0245 - lr: 1.2800e-07\n"
          ]
        },
        {
          "output_type": "execute_result",
          "data": {
            "text/plain": [
              "<keras.callbacks.History at 0x7f20c02f8b10>"
            ]
          },
          "metadata": {},
          "execution_count": 14
        }
      ],
      "source": [
        "opt = tf.keras.optimizers.Adam(learning_rate=0.01, name=\"Adam\")\n",
        "reduce_lr = tf.keras.callbacks.ReduceLROnPlateau(monitor='val_loss', factor=0.2, patience=3, min_lr=0.0000001)\n",
        "early_stopping = tf.keras.callbacks.EarlyStopping(monitor='val_loss', patience=5)\n",
        "\n",
        "model.compile(loss='mae', optimizer=opt, metrics=[tf.keras.metrics.MeanAbsoluteError()])\n",
        "model.fit(train_x, train_y, validation_split=0.2, epochs=50, batch_size=200, verbose=1, callbacks=[reduce_lr, early_stopping])"
      ]
    },
    {
      "cell_type": "markdown",
      "metadata": {
        "id": "irApvq-v5cwN"
      },
      "source": [
        "Relevant Plots"
      ]
    },
    {
      "cell_type": "code",
      "execution_count": null,
      "metadata": {
        "colab": {
          "base_uri": "https://localhost:8080/",
          "height": 545
        },
        "id": "qY2CKDxt5cwN",
        "outputId": "4b2ce274-57e7-482e-8d84-890a0cae57cf"
      },
      "outputs": [
        {
          "output_type": "display_data",
          "data": {
            "text/plain": [
              "<Figure size 432x288 with 1 Axes>"
            ],
            "image/png": "[encoded data removed]"
          },
          "metadata": {
            "needs_background": "light"
          }
        },
        {
          "output_type": "display_data",
          "data": {
            "text/plain": [
              "<Figure size 432x288 with 1 Axes>"
            ],
            "image/png": "[encoded data removed]"
          },
          "metadata": {
            "needs_background": "light"
          }
        }
      ],
      "source": [
        "train_predicted = model(train_x)\n",
        "\n",
        "plt.plot(train_y[:,0]*max_ABP, color='r', label = 'Actual')\n",
        "plt.plot(train_predicted[:,0]*max_ABP, color='b', label = 'Predicted')\n",
        "plt.legend()\n",
        "plt.title('SBP Predictions')\n",
        "\n",
        "plt.show()\n",
        "\n",
        "plt.plot(train_y[:,1]*max_ABP, color='r', label = 'Actual')\n",
        "plt.plot(train_predicted[:,1]*max_ABP, color='b', label = 'Predicted')\n",
        "plt.legend()\n",
        "plt.title('DBP Predictions')\n",
        "\n",
        "plt.show()"
      ]
    },
    {
      "cell_type": "code",
      "execution_count": null,
      "metadata": {
        "colab": {
          "base_uri": "https://localhost:8080/",
          "height": 545
        },
        "id": "XbA5CTYM5cwO",
        "outputId": "90ba9f45-cc3b-4e72-dd20-9ffec1caa99e"
      },
      "outputs": [
        {
          "output_type": "display_data",
          "data": {
            "text/plain": [
              "<Figure size 432x288 with 1 Axes>"
            ],
            "image/png": "[encoded data removed]"
          },
          "metadata": {
            "needs_background": "light"
          }
        },
        {
          "output_type": "display_data",
          "data": {
            "text/plain": [
              "<Figure size 432x288 with 1 Axes>"
            ],
            "image/png": "[encoded data removed]"
          },
          "metadata": {
            "needs_background": "light"
          }
        }
      ],
      "source": [
        "test_predicted = model(test_x)\n",
        "\n",
        "plt.plot(test_y[:,0], color='r', label = 'Actual')\n",
        "plt.plot(test_predicted[:,0]*max_ABP, color='b', label = 'Predicted')\n",
        "plt.legend()\n",
        "plt.title('SBP Predictions')\n",
        "\n",
        "plt.show()\n",
        "\n",
        "plt.plot(test_y[:,1], color='r', label = 'Actual')\n",
        "plt.plot(test_predicted[:,1]*max_ABP, color='b', label = 'Predicted')\n",
        "plt.legend()\n",
        "plt.title('DBP Predictions')\n",
        "\n",
        "plt.show()"
      ]
    },
    {
      "cell_type": "markdown",
      "metadata": {
        "id": "cwkloc5l5cwO"
      },
      "source": [
        "Testing the Model"
      ]
    },
    {
      "cell_type": "code",
      "execution_count": null,
      "metadata": {
        "id": "aA6ZlMH95cwO"
      },
      "outputs": [],
      "source": [
        "def test_dataset(test_x, test_y, model):\n",
        "   \n",
        "   predicted = model.predict(test_x)\n",
        "   predicted = predicted*max_ABP\n",
        "\n",
        "   predicted = pd.DataFrame(predicted, columns=['SBP', 'DBP'])\n",
        "   test_y = pd.DataFrame(test_y, columns=['SBP', 'DBP'])\n",
        "\n",
        "   mae_sbp  =   mean_absolute_error(test_y['SBP'], predicted['SBP'])\n",
        "   sd_sbp =    stdev(predicted['SBP'])\n",
        "   mae_dbp  =   mean_absolute_error(test_y['DBP'], predicted['DBP'])\n",
        "   sd_dbp =    stdev(predicted['DBP'])\n",
        "   mae_map = mean_absolute_error((test_y['SBP'] + 2*test_y['DBP'])/3, (predicted['SBP'] + 2*test_y['DBP'])/3)\n",
        "   sd_map = stdev((predicted['SBP'] + 2*test_y['DBP'])/3)\n",
        "\n",
        "\n",
        "   sbp_diff = np.absolute(predicted['SBP'] - test_y['SBP'])\n",
        "   dbp_diff = np.absolute(predicted['DBP'] - test_y['DBP'])\n",
        "   map_diff = (sbp_diff + 2*dbp_diff)/3\n",
        "\n",
        "   #SBP\n",
        "   test_sbp_5 = []\n",
        "   predicted_sbp_5 = []\n",
        "\n",
        "   test_sbp_10 = []23.7\n",
        "   predicted_sbp_10 = []\n",
        "\n",
        "   test_sbp_15 = []\n",
        "   predicted_sbp_15 = []\n",
        "\n",
        "\n",
        "   #DBP\n",
        "   test_dbp_5 = []\n",
        "   predicted_dbp_5 = []\n",
        "\n",
        "   test_dbp_10 = []\n",
        "   predicted_dbp_10 = []\n",
        "\n",
        "   test_dbp_15 = []\n",
        "   predicted_dbp_15 = []\n",
        "\n",
        "\n",
        "   #MAP\n",
        "   test_map_5 = []\n",
        "   predicted_map_5 = []\n",
        "\n",
        "   test_map_10 = []\n",
        "   predicted_map_10 = []\n",
        "\n",
        "   test_map_15 = []\n",
        "   predicted_map_15 = []\n",
        "\n",
        "   for i in range(len(sbp_diff)):\n",
        "      #SBP\n",
        "      if sbp_diff[i] <= 5:\n",
        "         test_sbp_5.append(test_y['SBP'][i])\n",
        "         predicted_sbp_5.append(predicted['SBP'][i])\n",
        "      \n",
        "      if(sbp_diff[i] <= 10):\n",
        "         test_sbp_10.append(test_y['SBP'][i])\n",
        "         predicted_sbp_10.append(predicted['SBP'][i])\n",
        "\n",
        "      if(sbp_diff[i] <= 15):\n",
        "         test_sbp_15.append(test_y['SBP'][i])\n",
        "         predicted_sbp_15.append(predicted['SBP'][i])\n",
        "\n",
        "      \n",
        "      #DBP\n",
        "      if dbp_diff[i] <= 5:\n",
        "         test_dbp_5.append(test_y['DBP'][i])\n",
        "         predicted_dbp_5.append(predicted['DBP'][i])\n",
        "      \n",
        "      if(dbp_diff[i] <= 10):\n",
        "         test_dbp_10.append(test_y['DBP'][i])\n",
        "         predicted_dbp_10.append(predicted['DBP'][i])\n",
        "\n",
        "      if(dbp_diff[i] <= 15):\n",
        "         test_dbp_15.append(test_y['DBP'][i])\n",
        "         predicted_dbp_15.append(predicted['DBP'][i])\n",
        "\n",
        "\n",
        "      #MAP\n",
        "      if map_diff[i] <= 5:\n",
        "         test_map_5.append((test_y['SBP'][i] + 2*test_y['DBP'][i])/3)\n",
        "         predicted_map_5.append((predicted['SBP'][i] + 2*test_y['DBP'][i])/3)\n",
        "      \n",
        "      if(map_diff[i] <= 10):\n",
        "         test_map_10.append((test_y['SBP'][i] + 2*test_y['DBP'][i])/3)\n",
        "         predicted_map_10.append((predicted['SBP'][i] + 2*test_y['DBP'][i])/3)\n",
        "\n",
        "      if(map_diff[i] <= 15):\n",
        "         test_map_15.append((test_y['SBP'][i] + 2*test_y['DBP'][i])/3)\n",
        "         predicted_map_15.append((predicted['SBP'][i] + 2*test_y['DBP'][i])/3)\n",
        "\n",
        "      \n",
        "   percent_sbp_5 = (len(test_sbp_5)/len(test_y['SBP'])) * 100\n",
        "   percent_sbp_10 = (len(test_sbp_10)/len(test_y['SBP'])) * 100\n",
        "   percent_sbp_15 = (len(test_sbp_15)/len(test_y['SBP'])) * 100\n",
        "\n",
        "   percent_dbp_5 = (len(test_dbp_5)/len(test_y['SBP'])) * 100\n",
        "   percent_dbp_10 = (len(test_dbp_10)/len(test_y['SBP'])) * 100\n",
        "   percent_dbp_15 = (len(test_dbp_15)/len(test_y['SBP'])) * 100\n",
        "\n",
        "   percent_map_5 = (len(test_map_5)/len(test_y['SBP'])) * 100\n",
        "   percent_map_10 = (len(test_map_10)/len(test_y['SBP'])) * 100\n",
        "   percent_map_15 = (len(test_map_15)/len(test_y['SBP'])) * 100\n",
        "\n",
        "   return {\n",
        "      'MAE SBP' : mae_sbp,\n",
        "      'SD SBP' : sd_sbp,\n",
        "      'MAE DBP' : mae_dbp,\n",
        "      'SD DBP' : sd_dbp,\n",
        "      'MAE MAP' : mae_map,\n",
        "      'SD MAP' : sd_map,\n",
        "      'SBP < 5' : percent_sbp_5,\n",
        "      'SBP < 10' : percent_sbp_10,\n",
        "      'SBP < 15' : percent_sbp_15,\n",
        "      'DBP < 5' : percent_dbp_5,\n",
        "      'DBP < 10' : percent_dbp_10,\n",
        "      'DBP < 15' : percent_dbp_15,\n",
        "      'MAP < 5' : percent_map_5,\n",
        "      'MAP < 10' : percent_map_10,\n",
        "      'MAP < 15' : percent_map_15,\n",
        "   }\n",
        "\n"
      ]
    },
    {
      "cell_type": "markdown",
      "metadata": {
        "id": "VKYGuVzz5cwQ"
      },
      "source": [
        "Segregating the Dataset into Hypo, Normo and Hyper tensive"
      ]
    },
    {
      "cell_type": "code",
      "execution_count": null,
      "metadata": {
        "id": "LzzWkatP5cwQ"
      },
      "outputs": [],
      "source": [
        "test_y_hypo = []\n",
        "test_x_hypo = []\n",
        "\n",
        "test_y_normo = []\n",
        "test_x_normo = []\n",
        "\n",
        "test_y_hyper = []\n",
        "test_x_hyper = []\n",
        "\n",
        "for i in range(test_y.shape[0]):\n",
        "    \n",
        "    if(test_y[i][0]<90 or test_y[i][1]<60):\n",
        "        test_y_hypo.append([test_y[i][0],test_y[i][1]])\n",
        "        test_x_hypo.append(test_x[i,:,:])\n",
        "    \n",
        "    elif(test_y[i][0]>140 or test_y[i][1]>90):\n",
        "        test_y_hyper.append([test_y[i][0],test_y[i][1]])\n",
        "        test_x_hyper.append(test_x[i,:,:])\n",
        "\n",
        "    else:\n",
        "        test_y_normo.append([test_y[i][0],test_y[i][1]])\n",
        "        test_x_normo.append(test_x[i,:,:])"
      ]
    },
    {
      "cell_type": "code",
      "execution_count": null,
      "metadata": {
        "id": "IPviQO2O5cwR"
      },
      "outputs": [],
      "source": [
        "hypo_results = test_dataset(model=model, test_x=np.array(test_x_hypo), test_y=np.array(test_y_hypo))"
      ]
    },
    {
      "cell_type": "code",
      "execution_count": null,
      "metadata": {
        "colab": {
          "base_uri": "https://localhost:8080/"
        },
        "id": "Ie02krfK5cwR",
        "outputId": "39481372-c9c8-457a-fa1d-7da96fc86f4b"
      },
      "outputs": [
        {
          "output_type": "execute_result",
          "data": {
            "text/plain": [
              "{'DBP < 10': 96.15384615384616,\n",
              " 'DBP < 15': 100.0,\n",
              " 'DBP < 5': 76.92307692307693,\n",
              " 'MAE DBP': 3.035186631871972,\n",
              " 'MAE MAP': 7.906710754200744,\n",
              " 'MAE SBP': 23.720132262602228,\n",
              " 'MAP < 10': 65.38461538461539,\n",
              " 'MAP < 15': 69.23076923076923,\n",
              " 'MAP < 5': 38.46153846153847,\n",
              " 'SBP < 10': 30.76923076923077,\n",
              " 'SBP < 15': 42.30769230769231,\n",
              " 'SBP < 5': 30.76923076923077,\n",
              " 'SD DBP': 2.7801684390976535,\n",
              " 'SD MAP': 8.777291696485474,\n",
              " 'SD SBP': 19.830791534355512}"
            ]
          },
          "metadata": {},
          "execution_count": 20
        }
      ],
      "source": [
        "hypo_results"
      ]
    },
    {
      "cell_type": "code",
      "execution_count": null,
      "metadata": {
        "colab": {
          "base_uri": "https://localhost:8080/"
        },
        "id": "aEsM6yDq5cwR",
        "outputId": "a079e3fb-f0a8-4177-ec91-65d4e43d2816"
      },
      "outputs": [
        {
          "output_type": "execute_result",
          "data": {
            "text/plain": [
              "(26, 250, 2)"
            ]
          },
          "metadata": {},
          "execution_count": 21
        }
      ],
      "source": [
        "np.array(test_x_hypo).shape"
      ]
    },
    {
      "cell_type": "code",
      "execution_count": null,
      "metadata": {
        "id": "e9FmrsUh5cwR"
      },
      "outputs": [],
      "source": [
        "hyper_results = test_dataset(model=model, test_x=np.array(test_x_hyper), test_y=np.array(test_y_hyper))"
      ]
    },
    {
      "cell_type": "code",
      "execution_count": null,
      "metadata": {
        "colab": {
          "base_uri": "https://localhost:8080/"
        },
        "id": "ldNyc6I55cwS",
        "outputId": "7017955c-3590-426c-fcb5-43c7f9eae0e9"
      },
      "outputs": [
        {
          "output_type": "execute_result",
          "data": {
            "text/plain": [
              "{'DBP < 10': 91.73935351462288,\n",
              " 'DBP < 15': 96.39815289892253,\n",
              " 'DBP < 5': 76.5623396613648,\n",
              " 'MAE DBP': 3.8558380779719945,\n",
              " 'MAE MAP': 1.9712166378134768,\n",
              " 'MAE SBP': 5.91364991344043,\n",
              " 'MAP < 10': 91.65726013340173,\n",
              " 'MAP < 15': 97.13699332991278,\n",
              " 'MAP < 5': 69.19445869676757,\n",
              " 'SBP < 10': 84.89481785531041,\n",
              " 'SBP < 15': 94.41765007696254,\n",
              " 'SBP < 5': 54.60236018471011,\n",
              " 'SD DBP': 6.920447876369892,\n",
              " 'SD MAP': 6.065503070142124,\n",
              " 'SD SBP': 9.27466174548803}"
            ]
          },
          "metadata": {},
          "execution_count": 23
        }
      ],
      "source": [
        "hyper_results"
      ]
    },
    {
      "cell_type": "code",
      "execution_count": null,
      "metadata": {
        "colab": {
          "base_uri": "https://localhost:8080/"
        },
        "id": "leJ8_ztb5cwS",
        "outputId": "3afcbc18-9d4d-4ebe-84f2-e9c83f191235"
      },
      "outputs": [
        {
          "output_type": "execute_result",
          "data": {
            "text/plain": [
              "(9745, 250, 2)"
            ]
          },
          "metadata": {},
          "execution_count": 24
        }
      ],
      "source": [
        "np.array(test_x_hyper).shape"
      ]
    },
    {
      "cell_type": "code",
      "execution_count": null,
      "metadata": {
        "id": "oxVMnA2L5cwS"
      },
      "outputs": [],
      "source": [
        "normo_results = test_dataset(model=model, test_x=np.array(test_x_normo), test_y=np.array(test_y_normo))"
      ]
    },
    {
      "cell_type": "code",
      "execution_count": null,
      "metadata": {
        "colab": {
          "base_uri": "https://localhost:8080/"
        },
        "id": "ZP_tHqfw5cwS",
        "outputId": "44b8bea3-5d49-48a9-9353-e842677a4d49"
      },
      "outputs": [
        {
          "output_type": "execute_result",
          "data": {
            "text/plain": [
              "{'DBP < 10': 96.93408729457501,\n",
              " 'DBP < 15': 99.59356776815692,\n",
              " 'DBP < 5': 80.98603993638453,\n",
              " 'MAE DBP': 2.9882637110760886,\n",
              " 'MAE MAP': 1.6247187347593985,\n",
              " 'MAE SBP': 4.874156204278195,\n",
              " 'MAP < 10': 95.29952288390176,\n",
              " 'MAP < 15': 99.06343877010072,\n",
              " 'MAP < 5': 76.51528538611062,\n",
              " 'SBP < 10': 88.33716204276374,\n",
              " 'SBP < 15': 94.37179713730342,\n",
              " 'SBP < 5': 67.65329563527125,\n",
              " 'SD DBP': 5.649720617202932,\n",
              " 'SD MAP': 6.229082059419976,\n",
              " 'SD SBP': 11.057476498392377}"
            ]
          },
          "metadata": {},
          "execution_count": 26
        }
      ],
      "source": [
        "normo_results"
      ]
    }
  ],
  "metadata": {
    "interpreter": {
      "hash": "440da43f4c1564afcc2eb73624c9a508d52b9a579eed00ea5d08f6800fabbd92"
    },
    "kernelspec": {
      "display_name": "Python 3.8.3 ('base')",
      "language": "python",
      "name": "python3"
    },
    "language_info": {
      "codemirror_mode": {
        "name": "ipython",
        "version": 3
      },
      "file_extension": ".py",
      "mimetype": "text/x-python",
      "name": "python",
      "nbconvert_exporter": "python",
      "pygments_lexer": "ipython3",
      "version": "3.7.9"
    },
    "orig_nbformat": 4,
    "colab": {
      "provenance": []
    },
    "accelerator": "GPU"
  },
  "nbformat": 4,
  "nbformat_minor": 0
}