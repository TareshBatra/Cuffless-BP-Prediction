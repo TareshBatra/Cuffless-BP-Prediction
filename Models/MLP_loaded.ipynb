{
  "cells": [
    {
      "cell_type": "markdown",
      "metadata": {
        "id": "te7g8wuC6s2H"
      },
      "source": [
        "Imports"
      ]
    },
    {
      "cell_type": "code",
      "execution_count": null,
      "metadata": {
        "id": "tW8bOK4i6s2K"
      },
      "outputs": [],
      "source": [
        "import pandas as pd\n",
        "import numpy as np\n",
        "from tensorflow import keras\n",
        "from tensorflow.keras.models import Sequential\n",
        "from tensorflow.keras.layers import Dense,BatchNormalization, Dropout\n",
        "from tensorflow.keras import initializers\n",
        "import tensorflow as tf\n",
        "from sklearn.preprocessing import MinMaxScaler\n",
        "from sklearn.metrics import mean_absolute_error, mean_squared_error\n",
        "from sklearn.model_selection import train_test_split\n",
        "import os\n",
        "import math\n",
        "import glob\n",
        "import scipy\n",
        "\n",
        "from statistics import stdev\n",
        "\n",
        "import pickle\n",
        "import matplotlib.pyplot as plt"
      ]
    },
    {
      "cell_type": "markdown",
      "metadata": {
        "id": "OdmlTZCz6s2M"
      },
      "source": [
        "Loading the Data"
      ]
    },
    {
      "cell_type": "code",
      "execution_count": null,
      "metadata": {
        "colab": {
          "base_uri": "https://localhost:8080/"
        },
        "id": "-2MhaKxX6s2M",
        "outputId": "cc012f0c-f5b1-496b-ec44-534ebf4cd63c"
      },
      "outputs": [
        {
          "output_type": "stream",
          "name": "stdout",
          "text": [
            "Mounted at /content/drive\n"
          ]
        }
      ],
      "source": [
        "from google.colab import drive\n",
        "drive.mount('/content/drive')\n",
        "\n",
        "filename = '/content/drive/MyDrive/4-2/BP Paper New/Data/Windowed_Vals/75.pkl'\n",
        "\n",
        "with open(filename, 'rb') as f:\n",
        "    train_x, train_y, max_ABP = pickle.load(f)"
      ]
    },
    {
      "cell_type": "code",
      "execution_count": null,
      "metadata": {
        "id": "qIPINa9K6s2N"
      },
      "outputs": [],
      "source": [
        "inputs = train_x\n",
        "targets = train_y"
      ]
    },
    {
      "cell_type": "code",
      "execution_count": null,
      "metadata": {
        "id": "cDpSoU7F6s2O"
      },
      "outputs": [],
      "source": [
        "train_x = train_x.reshape(train_x.shape[0], train_x.shape[1]*train_x.shape[2])"
      ]
    },
    {
      "cell_type": "code",
      "execution_count": null,
      "metadata": {
        "colab": {
          "base_uri": "https://localhost:8080/"
        },
        "id": "TYiERBIM6s2P",
        "outputId": "5334249e-372d-4f93-afdf-1abf130e11f6"
      },
      "outputs": [
        {
          "output_type": "execute_result",
          "data": {
            "text/plain": [
              "(105443, 500)"
            ]
          },
          "metadata": {},
          "execution_count": 5
        }
      ],
      "source": [
        "train_x.shape"
      ]
    },
    {
      "cell_type": "code",
      "execution_count": null,
      "metadata": {
        "colab": {
          "base_uri": "https://localhost:8080/"
        },
        "id": "qg-XrXKx6s2Q",
        "outputId": "9d434571-f260-4adb-c724-6aa90bcdd27d"
      },
      "outputs": [
        {
          "output_type": "execute_result",
          "data": {
            "text/plain": [
              "(105443, 2)"
            ]
          },
          "metadata": {},
          "execution_count": 6
        }
      ],
      "source": [
        "train_y.shape"
      ]
    },
    {
      "cell_type": "code",
      "execution_count": null,
      "metadata": {
        "id": "uzLEKiEN6s2R"
      },
      "outputs": [],
      "source": [
        "train_x, test_x, train_y, test_y = train_test_split(train_x, train_y, test_size=0.20, shuffle=True)"
      ]
    },
    {
      "cell_type": "code",
      "execution_count": null,
      "metadata": {
        "id": "Ni_HSpbK6s2R"
      },
      "outputs": [],
      "source": [
        "test_y = test_y*max_ABP"
      ]
    },
    {
      "cell_type": "markdown",
      "metadata": {
        "id": "NXBPoWPE6s2R"
      },
      "source": [
        "1D CNN Model"
      ]
    },
    {
      "cell_type": "code",
      "execution_count": null,
      "metadata": {
        "id": "NNXAfCA66s2R"
      },
      "outputs": [],
      "source": [
        "model = Sequential()\n",
        "model.add(Dense(256, activation='relu'))\n",
        "model.add(BatchNormalization())\n",
        "model.add(Dropout(0.1))\n",
        "model.add(Dense(64, activation='relu'))\n",
        "model.add(BatchNormalization())\n",
        "model.add(Dropout(0.1))\n",
        "model.add(Dense(32, activation='relu'))\n",
        "model.add(BatchNormalization())\n",
        "model.add(Dropout(0.1))\n",
        "model.add(Dense(2, activation='linear', kernel_regularizer = tf.keras.regularizers.l1_l2(l1=0.00, l2=0.001)))"
      ]
    },
    {
      "cell_type": "code",
      "execution_count": null,
      "metadata": {
        "colab": {
          "base_uri": "https://localhost:8080/"
        },
        "id": "a7ypBbT96s2S",
        "outputId": "96d792fb-7a64-4c8b-a5b5-5734792558ba"
      },
      "outputs": [
        {
          "output_type": "stream",
          "name": "stdout",
          "text": [
            "Epoch 1/50\n",
            "338/338 [==============================] - 5s 11ms/step - loss: 0.0968 - mean_absolute_error: 0.0965 - val_loss: 0.0585 - val_mean_absolute_error: 0.0585 - lr: 0.0100\n",
            "Epoch 2/50\n",
            "338/338 [==============================] - 3s 9ms/step - loss: 0.0584 - mean_absolute_error: 0.0584 - val_loss: 0.0586 - val_mean_absolute_error: 0.0586 - lr: 0.0100\n",
            "Epoch 3/50\n",
            "338/338 [==============================] - 3s 9ms/step - loss: 0.0560 - mean_absolute_error: 0.0560 - val_loss: 0.0542 - val_mean_absolute_error: 0.0542 - lr: 0.0100\n",
            "Epoch 4/50\n",
            "338/338 [==============================] - 3s 9ms/step - loss: 0.0527 - mean_absolute_error: 0.0526 - val_loss: 0.0511 - val_mean_absolute_error: 0.0511 - lr: 0.0100\n",
            "Epoch 5/50\n",
            "338/338 [==============================] - 3s 9ms/step - loss: 0.0496 - mean_absolute_error: 0.0495 - val_loss: 0.0481 - val_mean_absolute_error: 0.0481 - lr: 0.0100\n",
            "Epoch 6/50\n",
            "338/338 [==============================] - 3s 9ms/step - loss: 0.0474 - mean_absolute_error: 0.0473 - val_loss: 0.0468 - val_mean_absolute_error: 0.0468 - lr: 0.0100\n",
            "Epoch 7/50\n",
            "338/338 [==============================] - 3s 9ms/step - loss: 0.0456 - mean_absolute_error: 0.0456 - val_loss: 0.0452 - val_mean_absolute_error: 0.0452 - lr: 0.0100\n",
            "Epoch 8/50\n",
            "338/338 [==============================] - 3s 9ms/step - loss: 0.0442 - mean_absolute_error: 0.0441 - val_loss: 0.0442 - val_mean_absolute_error: 0.0441 - lr: 0.0100\n",
            "Epoch 9/50\n",
            "338/338 [==============================] - 3s 9ms/step - loss: 0.0432 - mean_absolute_error: 0.0431 - val_loss: 0.0427 - val_mean_absolute_error: 0.0427 - lr: 0.0100\n",
            "Epoch 10/50\n",
            "338/338 [==============================] - 3s 9ms/step - loss: 0.0422 - mean_absolute_error: 0.0421 - val_loss: 0.0422 - val_mean_absolute_error: 0.0421 - lr: 0.0100\n",
            "Epoch 11/50\n",
            "338/338 [==============================] - 3s 9ms/step - loss: 0.0413 - mean_absolute_error: 0.0412 - val_loss: 0.0422 - val_mean_absolute_error: 0.0421 - lr: 0.0100\n",
            "Epoch 12/50\n",
            "338/338 [==============================] - 3s 9ms/step - loss: 0.0406 - mean_absolute_error: 0.0405 - val_loss: 0.0422 - val_mean_absolute_error: 0.0421 - lr: 0.0100\n",
            "Epoch 13/50\n",
            "338/338 [==============================] - 3s 9ms/step - loss: 0.0402 - mean_absolute_error: 0.0401 - val_loss: 0.0406 - val_mean_absolute_error: 0.0405 - lr: 0.0100\n",
            "Epoch 14/50\n",
            "338/338 [==============================] - 3s 9ms/step - loss: 0.0394 - mean_absolute_error: 0.0393 - val_loss: 0.0396 - val_mean_absolute_error: 0.0395 - lr: 0.0100\n",
            "Epoch 15/50\n",
            "338/338 [==============================] - 3s 9ms/step - loss: 0.0391 - mean_absolute_error: 0.0390 - val_loss: 0.0402 - val_mean_absolute_error: 0.0402 - lr: 0.0100\n",
            "Epoch 16/50\n",
            "338/338 [==============================] - 3s 9ms/step - loss: 0.0386 - mean_absolute_error: 0.0385 - val_loss: 0.0398 - val_mean_absolute_error: 0.0397 - lr: 0.0100\n",
            "Epoch 17/50\n",
            "338/338 [==============================] - 3s 9ms/step - loss: 0.0382 - mean_absolute_error: 0.0381 - val_loss: 0.0402 - val_mean_absolute_error: 0.0401 - lr: 0.0100\n",
            "Epoch 18/50\n",
            "338/338 [==============================] - 3s 9ms/step - loss: 0.0351 - mean_absolute_error: 0.0350 - val_loss: 0.0367 - val_mean_absolute_error: 0.0366 - lr: 0.0020\n",
            "Epoch 19/50\n",
            "338/338 [==============================] - 3s 9ms/step - loss: 0.0338 - mean_absolute_error: 0.0337 - val_loss: 0.0362 - val_mean_absolute_error: 0.0361 - lr: 0.0020\n",
            "Epoch 20/50\n",
            "338/338 [==============================] - 3s 9ms/step - loss: 0.0333 - mean_absolute_error: 0.0332 - val_loss: 0.0358 - val_mean_absolute_error: 0.0357 - lr: 0.0020\n",
            "Epoch 21/50\n",
            "338/338 [==============================] - 3s 9ms/step - loss: 0.0329 - mean_absolute_error: 0.0328 - val_loss: 0.0359 - val_mean_absolute_error: 0.0358 - lr: 0.0020\n",
            "Epoch 22/50\n",
            "338/338 [==============================] - 5s 14ms/step - loss: 0.0325 - mean_absolute_error: 0.0325 - val_loss: 0.0354 - val_mean_absolute_error: 0.0354 - lr: 0.0020\n",
            "Epoch 23/50\n",
            "338/338 [==============================] - 5s 13ms/step - loss: 0.0323 - mean_absolute_error: 0.0323 - val_loss: 0.0353 - val_mean_absolute_error: 0.0353 - lr: 0.0020\n",
            "Epoch 24/50\n",
            "338/338 [==============================] - 3s 9ms/step - loss: 0.0321 - mean_absolute_error: 0.0320 - val_loss: 0.0352 - val_mean_absolute_error: 0.0351 - lr: 0.0020\n",
            "Epoch 25/50\n",
            "338/338 [==============================] - 3s 9ms/step - loss: 0.0318 - mean_absolute_error: 0.0318 - val_loss: 0.0352 - val_mean_absolute_error: 0.0351 - lr: 0.0020\n",
            "Epoch 26/50\n",
            "338/338 [==============================] - 3s 9ms/step - loss: 0.0318 - mean_absolute_error: 0.0317 - val_loss: 0.0349 - val_mean_absolute_error: 0.0349 - lr: 0.0020\n",
            "Epoch 27/50\n",
            "338/338 [==============================] - 3s 9ms/step - loss: 0.0315 - mean_absolute_error: 0.0314 - val_loss: 0.0351 - val_mean_absolute_error: 0.0351 - lr: 0.0020\n",
            "Epoch 28/50\n",
            "338/338 [==============================] - 3s 9ms/step - loss: 0.0313 - mean_absolute_error: 0.0312 - val_loss: 0.0349 - val_mean_absolute_error: 0.0348 - lr: 0.0020\n",
            "Epoch 29/50\n",
            "338/338 [==============================] - 3s 9ms/step - loss: 0.0311 - mean_absolute_error: 0.0311 - val_loss: 0.0346 - val_mean_absolute_error: 0.0345 - lr: 0.0020\n",
            "Epoch 30/50\n",
            "338/338 [==============================] - 3s 9ms/step - loss: 0.0309 - mean_absolute_error: 0.0309 - val_loss: 0.0352 - val_mean_absolute_error: 0.0351 - lr: 0.0020\n",
            "Epoch 31/50\n",
            "338/338 [==============================] - 3s 9ms/step - loss: 0.0308 - mean_absolute_error: 0.0307 - val_loss: 0.0345 - val_mean_absolute_error: 0.0345 - lr: 0.0020\n",
            "Epoch 32/50\n",
            "338/338 [==============================] - 3s 9ms/step - loss: 0.0306 - mean_absolute_error: 0.0305 - val_loss: 0.0345 - val_mean_absolute_error: 0.0345 - lr: 0.0020\n",
            "Epoch 33/50\n",
            "338/338 [==============================] - 3s 9ms/step - loss: 0.0296 - mean_absolute_error: 0.0295 - val_loss: 0.0339 - val_mean_absolute_error: 0.0339 - lr: 4.0000e-04\n",
            "Epoch 34/50\n",
            "338/338 [==============================] - 3s 9ms/step - loss: 0.0293 - mean_absolute_error: 0.0292 - val_loss: 0.0338 - val_mean_absolute_error: 0.0337 - lr: 4.0000e-04\n",
            "Epoch 35/50\n",
            "338/338 [==============================] - 3s 9ms/step - loss: 0.0291 - mean_absolute_error: 0.0291 - val_loss: 0.0338 - val_mean_absolute_error: 0.0337 - lr: 4.0000e-04\n",
            "Epoch 36/50\n",
            "338/338 [==============================] - 3s 9ms/step - loss: 0.0290 - mean_absolute_error: 0.0289 - val_loss: 0.0338 - val_mean_absolute_error: 0.0337 - lr: 4.0000e-04\n",
            "Epoch 37/50\n",
            "338/338 [==============================] - 3s 9ms/step - loss: 0.0289 - mean_absolute_error: 0.0288 - val_loss: 0.0336 - val_mean_absolute_error: 0.0335 - lr: 4.0000e-04\n",
            "Epoch 38/50\n",
            "338/338 [==============================] - 3s 9ms/step - loss: 0.0288 - mean_absolute_error: 0.0287 - val_loss: 0.0335 - val_mean_absolute_error: 0.0335 - lr: 4.0000e-04\n",
            "Epoch 39/50\n",
            "338/338 [==============================] - 3s 9ms/step - loss: 0.0286 - mean_absolute_error: 0.0286 - val_loss: 0.0336 - val_mean_absolute_error: 0.0336 - lr: 4.0000e-04\n",
            "Epoch 40/50\n",
            "338/338 [==============================] - 3s 9ms/step - loss: 0.0287 - mean_absolute_error: 0.0287 - val_loss: 0.0335 - val_mean_absolute_error: 0.0334 - lr: 4.0000e-04\n",
            "Epoch 41/50\n",
            "338/338 [==============================] - 3s 9ms/step - loss: 0.0287 - mean_absolute_error: 0.0286 - val_loss: 0.0334 - val_mean_absolute_error: 0.0334 - lr: 4.0000e-04\n",
            "Epoch 42/50\n",
            "338/338 [==============================] - 3s 9ms/step - loss: 0.0286 - mean_absolute_error: 0.0285 - val_loss: 0.0334 - val_mean_absolute_error: 0.0334 - lr: 4.0000e-04\n",
            "Epoch 43/50\n",
            "338/338 [==============================] - 3s 9ms/step - loss: 0.0285 - mean_absolute_error: 0.0285 - val_loss: 0.0334 - val_mean_absolute_error: 0.0334 - lr: 4.0000e-04\n",
            "Epoch 44/50\n",
            "338/338 [==============================] - 3s 9ms/step - loss: 0.0284 - mean_absolute_error: 0.0284 - val_loss: 0.0334 - val_mean_absolute_error: 0.0333 - lr: 8.0000e-05\n",
            "Epoch 45/50\n",
            "338/338 [==============================] - 3s 9ms/step - loss: 0.0283 - mean_absolute_error: 0.0282 - val_loss: 0.0334 - val_mean_absolute_error: 0.0333 - lr: 8.0000e-05\n",
            "Epoch 46/50\n",
            "338/338 [==============================] - 3s 9ms/step - loss: 0.0283 - mean_absolute_error: 0.0283 - val_loss: 0.0333 - val_mean_absolute_error: 0.0333 - lr: 8.0000e-05\n",
            "Epoch 47/50\n",
            "338/338 [==============================] - 3s 10ms/step - loss: 0.0282 - mean_absolute_error: 0.0282 - val_loss: 0.0333 - val_mean_absolute_error: 0.0333 - lr: 8.0000e-05\n",
            "Epoch 48/50\n",
            "338/338 [==============================] - 3s 9ms/step - loss: 0.0282 - mean_absolute_error: 0.0281 - val_loss: 0.0333 - val_mean_absolute_error: 0.0333 - lr: 1.6000e-05\n",
            "Epoch 49/50\n",
            "338/338 [==============================] - 3s 9ms/step - loss: 0.0282 - mean_absolute_error: 0.0281 - val_loss: 0.0333 - val_mean_absolute_error: 0.0333 - lr: 1.6000e-05\n",
            "Epoch 50/50\n",
            "338/338 [==============================] - 3s 9ms/step - loss: 0.0282 - mean_absolute_error: 0.0282 - val_loss: 0.0333 - val_mean_absolute_error: 0.0333 - lr: 1.6000e-05\n"
          ]
        },
        {
          "output_type": "execute_result",
          "data": {
            "text/plain": [
              "<keras.callbacks.History at 0x7fed6d316650>"
            ]
          },
          "metadata": {},
          "execution_count": 10
        }
      ],
      "source": [
        "opt = tf.keras.optimizers.Adam(learning_rate=0.01, name=\"Adam\")\n",
        "reduce_lr = tf.keras.callbacks.ReduceLROnPlateau(monitor='val_loss', factor=0.2, patience=3, min_lr=0.0000001)\n",
        "early_stopping = tf.keras.callbacks.EarlyStopping(monitor='val_loss', patience=5)\n",
        "\n",
        "model.compile(loss='mae', optimizer=opt, metrics=[tf.keras.metrics.MeanAbsoluteError()])\n",
        "model.fit(train_x, train_y, validation_split=0.2, epochs=50, batch_size=200, verbose=1, callbacks=[reduce_lr, early_stopping])"
      ]
    },
    {
      "cell_type": "markdown",
      "metadata": {
        "id": "tE4A6r3Q6s2S"
      },
      "source": [
        "Relevant Plots"
      ]
    },
    {
      "cell_type": "code",
      "execution_count": null,
      "metadata": {
        "colab": {
          "base_uri": "https://localhost:8080/",
          "height": 545
        },
        "id": "1eQeJuw56s2S",
        "outputId": "31167091-c3db-4c41-b418-f40d83b8bf6c"
      },
      "outputs": [
        {
          "output_type": "display_data",
          "data": {
            "text/plain": [
              "<Figure size 432x288 with 1 Axes>"
            ],
            "image/png": "[encoded data removed]"
          },
          "metadata": {
            "needs_background": "light"
          }
        },
        {
          "output_type": "display_data",
          "data": {
            "text/plain": [
              "<Figure size 432x288 with 1 Axes>"
            ],
            "image/png": "[encoded data removed]"
          },
          "metadata": {
            "needs_background": "light"
          }
        }
      ],
      "source": [
        "train_predicted = model(train_x)\n",
        "\n",
        "plt.plot(train_y[:,0]*max_ABP, color='r', label = 'Actual')\n",
        "plt.plot(train_predicted[:,0]*max_ABP, color='b', label = 'Predicted')\n",
        "plt.legend()\n",
        "plt.title('SBP Predictions')\n",
        "\n",
        "plt.show()\n",
        "\n",
        "plt.plot(train_y[:,1]*max_ABP, color='r', label = 'Actual')\n",
        "plt.plot(train_predicted[:,1]*max_ABP, color='b', label = 'Predicted')\n",
        "plt.legend()\n",
        "plt.title('DBP Predictions')\n",
        "\n",
        "plt.show()"
      ]
    },
    {
      "cell_type": "code",
      "execution_count": null,
      "metadata": {
        "colab": {
          "base_uri": "https://localhost:8080/",
          "height": 545
        },
        "id": "MewAg3e26s2S",
        "outputId": "9ff96fd2-d04b-4124-e3de-9358e59c965a"
      },
      "outputs": [
        {
          "output_type": "display_data",
          "data": {
            "text/plain": [
              "<Figure size 432x288 with 1 Axes>"
            ],
            "image/png": "[encoded data removed]"
          },
          "metadata": {
            "needs_background": "light"
          }
        },
        {
          "output_type": "display_data",
          "data": {
            "text/plain": [
              "<Figure size 432x288 with 1 Axes>"
            ],
            "image/png": "[encoded data removed]"
          },
          "metadata": {
            "needs_background": "light"
          }
        }
      ],
      "source": [
        "test_predicted = model(test_x)\n",
        "\n",
        "plt.plot(test_y[:,0], color='r', label = 'Actual')\n",
        "plt.plot(test_predicted[:,0]*max_ABP, color='b', label = 'Predicted')\n",
        "plt.legend()\n",
        "plt.title('SBP Predictions')\n",
        "\n",
        "plt.show()\n",
        "\n",
        "plt.plot(test_y[:,1], color='r', label = 'Actual')\n",
        "plt.plot(test_predicted[:,1]*max_ABP, color='b', label = 'Predicted')\n",
        "plt.legend()\n",
        "plt.title('DBP Predictions')\n",
        "\n",
        "plt.show()"
      ]
    },
    {
      "cell_type": "markdown",
      "metadata": {
        "id": "F7ZB-B4e6s2T"
      },
      "source": [
        "Testing the Model"
      ]
    },
    {
      "cell_type": "code",
      "execution_count": null,
      "metadata": {
        "id": "HSCo79z76s2T"
      },
      "outputs": [],
      "source": [
        "def test_dataset(test_x, test_y, model):\n",
        "   \n",
        "   predicted = model.predict(test_x)\n",
        "   predicted = predicted*max_ABP\n",
        "\n",
        "   predicted = pd.DataFrame(predicted, columns=['SBP', 'DBP'])\n",
        "   test_y = pd.DataFrame(test_y, columns=['SBP', 'DBP'])\n",
        "\n",
        "   mae_sbp  =   mean_absolute_error(test_y['SBP'], predicted['SBP'])\n",
        "   sd_sbp =    stdev(predicted['SBP'])\n",
        "   mae_dbp  =   mean_absolute_error(test_y['DBP'], predicted['DBP'])\n",
        "   sd_dbp =    stdev(predicted['DBP'])\n",
        "   mae_map = mean_absolute_error((test_y['SBP'] + 2*test_y['DBP'])/3, (predicted['SBP'] + 2*test_y['DBP'])/3)\n",
        "   sd_map = stdev((predicted['SBP'] + 2*test_y['DBP'])/3)\n",
        "\n",
        "\n",
        "   sbp_diff = np.absolute(predicted['SBP'] - test_y['SBP'])\n",
        "   dbp_diff = np.absolute(predicted['DBP'] - test_y['DBP'])\n",
        "   map_diff = (sbp_diff + 2*dbp_diff)/3\n",
        "\n",
        "   #SBP\n",
        "   test_sbp_5 = []\n",
        "   predicted_sbp_5 = []\n",
        "\n",
        "   test_sbp_10 = []\n",
        "   predicted_sbp_10 = []\n",
        "\n",
        "   test_sbp_15 = []\n",
        "   predicted_sbp_15 = []\n",
        "\n",
        "\n",
        "   #DBP\n",
        "   test_dbp_5 = []\n",
        "   predicted_dbp_5 = []\n",
        "\n",
        "   test_dbp_10 = []\n",
        "   predicted_dbp_10 = []\n",
        "\n",
        "   test_dbp_15 = []\n",
        "   predicted_dbp_15 = []\n",
        "\n",
        "\n",
        "   #MAP\n",
        "   test_map_5 = []\n",
        "   predicted_map_5 = []\n",
        "\n",
        "   test_map_10 = []\n",
        "   predicted_map_10 = []\n",
        "\n",
        "   test_map_15 = []\n",
        "   predicted_map_15 = []\n",
        "\n",
        "   for i in range(len(sbp_diff)):\n",
        "      #SBP\n",
        "      if sbp_diff[i] <= 5:\n",
        "         test_sbp_5.append(test_y['SBP'][i])\n",
        "         predicted_sbp_5.append(predicted['SBP'][i])\n",
        "      \n",
        "      if(sbp_diff[i] <= 10):\n",
        "         test_sbp_10.append(test_y['SBP'][i])\n",
        "         predicted_sbp_10.append(predicted['SBP'][i])\n",
        "\n",
        "      if(sbp_diff[i] <= 15):\n",
        "         test_sbp_15.append(test_y['SBP'][i])\n",
        "         predicted_sbp_15.append(predicted['SBP'][i])\n",
        "\n",
        "      \n",
        "      #DBP\n",
        "      if dbp_diff[i] <= 5:\n",
        "         test_dbp_5.append(test_y['DBP'][i])\n",
        "         predicted_dbp_5.append(predicted['DBP'][i])\n",
        "      \n",
        "      if(dbp_diff[i] <= 10):\n",
        "         test_dbp_10.append(test_y['DBP'][i])\n",
        "         predicted_dbp_10.append(predicted['DBP'][i])\n",
        "\n",
        "      if(dbp_diff[i] <= 15):\n",
        "         test_dbp_15.append(test_y['DBP'][i])\n",
        "         predicted_dbp_15.append(predicted['DBP'][i])\n",
        "\n",
        "\n",
        "      #MAP\n",
        "      if map_diff[i] <= 5:\n",
        "         test_map_5.append((test_y['SBP'][i] + 2*test_y['DBP'][i])/3)\n",
        "         predicted_map_5.append((predicted['SBP'][i] + 2*test_y['DBP'][i])/3)\n",
        "      \n",
        "      if(map_diff[i] <= 10):\n",
        "         test_map_10.append((test_y['SBP'][i] + 2*test_y['DBP'][i])/3)\n",
        "         predicted_map_10.append((predicted['SBP'][i] + 2*test_y['DBP'][i])/3)\n",
        "\n",
        "      if(map_diff[i] <= 15):\n",
        "         test_map_15.append((test_y['SBP'][i] + 2*test_y['DBP'][i])/3)\n",
        "         predicted_map_15.append((predicted['SBP'][i] + 2*test_y['DBP'][i])/3)\n",
        "\n",
        "      \n",
        "   percent_sbp_5 = (len(test_sbp_5)/len(test_y['SBP'])) * 100\n",
        "   percent_sbp_10 = (len(test_sbp_10)/len(test_y['SBP'])) * 100\n",
        "   percent_sbp_15 = (len(test_sbp_15)/len(test_y['SBP'])) * 100\n",
        "\n",
        "   percent_dbp_5 = (len(test_dbp_5)/len(test_y['SBP'])) * 100\n",
        "   percent_dbp_10 = (len(test_dbp_10)/len(test_y['SBP'])) * 100\n",
        "   percent_dbp_15 = (len(test_dbp_15)/len(test_y['SBP'])) * 100\n",
        "\n",
        "   percent_map_5 = (len(test_map_5)/len(test_y['SBP'])) * 100\n",
        "   percent_map_10 = (len(test_map_10)/len(test_y['SBP'])) * 100\n",
        "   percent_map_15 = (len(test_map_15)/len(test_y['SBP'])) * 100\n",
        "\n",
        "   return {\n",
        "      'MAE SBP' : mae_sbp,\n",
        "      'SD SBP' : sd_sbp,\n",
        "      'MAE DBP' : mae_dbp,\n",
        "      'SD DBP' : sd_dbp,\n",
        "      'MAE MAP' : mae_map,\n",
        "      'SD MAP' : sd_map,\n",
        "      'SBP < 5' : percent_sbp_5,\n",
        "      'SBP < 10' : percent_sbp_10,\n",
        "      'SBP < 15' : percent_sbp_15,\n",
        "      'DBP < 5' : percent_dbp_5,\n",
        "      'DBP < 10' : percent_dbp_10,\n",
        "      'DBP < 15' : percent_dbp_15,\n",
        "      'MAP < 5' : percent_map_5,\n",
        "      'MAP < 10' : percent_map_10,\n",
        "      'MAP < 15' : percent_map_15,\n",
        "   }\n",
        "\n"
      ]
    },
    {
      "cell_type": "markdown",
      "metadata": {
        "id": "W-mxmnoc6s2U"
      },
      "source": [
        "Segregating the Dataset into Hypo, Normo and Hyper tensive"
      ]
    },
    {
      "cell_type": "code",
      "execution_count": null,
      "metadata": {
        "id": "fDkgOVYe6s2U"
      },
      "outputs": [],
      "source": [
        "test_y_hypo = []\n",
        "test_x_hypo = []\n",
        "\n",
        "test_y_normo = []\n",
        "test_x_normo = []\n",
        "\n",
        "test_y_hyper = []\n",
        "test_x_hyper = []\n",
        "\n",
        "for i in range(test_y.shape[0]):\n",
        "    \n",
        "    if(test_y[i][0]<90 or test_y[i][1]<60):\n",
        "        test_y_hypo.append([test_y[i][0],test_y[i][1]])\n",
        "        test_x_hypo.append(test_x[i])\n",
        "    \n",
        "    elif(test_y[i][0]>140 or test_y[i][1]>90):\n",
        "        test_y_hyper.append([test_y[i][0],test_y[i][1]])\n",
        "        test_x_hyper.append(test_x[i])\n",
        "\n",
        "    else:\n",
        "        test_y_normo.append([test_y[i][0],test_y[i][1]])\n",
        "        test_x_normo.append(test_x[i])"
      ]
    },
    {
      "cell_type": "code",
      "execution_count": null,
      "metadata": {
        "id": "VJQ6vfzv6s2U"
      },
      "outputs": [],
      "source": [
        "hypo_results = test_dataset(model=model, test_x=np.array(test_x_hypo), test_y=np.array(test_y_hypo))"
      ]
    },
    {
      "cell_type": "code",
      "execution_count": null,
      "metadata": {
        "colab": {
          "base_uri": "https://localhost:8080/"
        },
        "id": "Pzdh5Qu16s2U",
        "outputId": "7af22156-40c4-4df8-f770-c82987619920"
      },
      "outputs": [
        {
          "output_type": "execute_result",
          "data": {
            "text/plain": [
              "{'DBP < 10': 93.54838709677419,\n",
              " 'DBP < 15': 100.0,\n",
              " 'DBP < 5': 74.19354838709677,\n",
              " 'MAE DBP': 3.459055031715841,\n",
              " 'MAE MAP': 10.264938919534824,\n",
              " 'MAE SBP': 30.794816758604476,\n",
              " 'MAP < 10': 41.935483870967744,\n",
              " 'MAP < 15': 64.51612903225806,\n",
              " 'MAP < 5': 16.129032258064516,\n",
              " 'SBP < 10': 9.67741935483871,\n",
              " 'SBP < 15': 22.58064516129032,\n",
              " 'SBP < 5': 3.225806451612903,\n",
              " 'SD DBP': 4.385923190972408,\n",
              " 'SD MAP': 6.1902131248510495,\n",
              " 'SD SBP': 17.29707031975739}"
            ]
          },
          "metadata": {},
          "execution_count": 16
        }
      ],
      "source": [
        "hypo_results"
      ]
    },
    {
      "cell_type": "code",
      "execution_count": null,
      "metadata": {
        "colab": {
          "base_uri": "https://localhost:8080/"
        },
        "id": "D922GAkC6s2V",
        "outputId": "6e121ffc-1332-4225-ae0f-39d566e66ee5"
      },
      "outputs": [
        {
          "output_type": "execute_result",
          "data": {
            "text/plain": [
              "(31, 500)"
            ]
          },
          "metadata": {},
          "execution_count": 17
        }
      ],
      "source": [
        "np.array(test_x_hypo).shape"
      ]
    },
    {
      "cell_type": "code",
      "execution_count": null,
      "metadata": {
        "id": "2E-TIZjk6s2V"
      },
      "outputs": [],
      "source": [
        "hyper_results = test_dataset(model=model, test_x=np.array(test_x_hyper), test_y=np.array(test_y_hyper))"
      ]
    },
    {
      "cell_type": "code",
      "execution_count": null,
      "metadata": {
        "colab": {
          "base_uri": "https://localhost:8080/"
        },
        "id": "_BFFOF036s2V",
        "outputId": "3ac45c6f-325c-4866-841a-8c73f095a0a1"
      },
      "outputs": [
        {
          "output_type": "execute_result",
          "data": {
            "text/plain": [
              "{'DBP < 10': 87.53685066585341,\n",
              " 'DBP < 15': 94.44952729490699,\n",
              " 'DBP < 5': 67.07329470366982,\n",
              " 'MAE DBP': 4.9281299156332485,\n",
              " 'MAE MAP': 2.4735196054892747,\n",
              " 'MAE SBP': 7.420558816467824,\n",
              " 'MAP < 10': 84.9547626308834,\n",
              " 'MAP < 15': 94.40886449120667,\n",
              " 'MAP < 5': 57.51753583409575,\n",
              " 'SBP < 10': 74.43326217342687,\n",
              " 'SBP < 15': 86.95740571312392,\n",
              " 'SBP < 5': 48.3480735996747,\n",
              " 'SD DBP': 5.823686029989716,\n",
              " 'SD MAP': 6.383242143418735,\n",
              " 'SD SBP': 10.037730889546507}"
            ]
          },
          "metadata": {},
          "execution_count": 19
        }
      ],
      "source": [
        "hyper_results"
      ]
    },
    {
      "cell_type": "code",
      "execution_count": null,
      "metadata": {
        "colab": {
          "base_uri": "https://localhost:8080/"
        },
        "id": "YwMbwYC56s2V",
        "outputId": "d3076f31-454d-4610-d204-f101ee697a33"
      },
      "outputs": [
        {
          "output_type": "execute_result",
          "data": {
            "text/plain": [
              "(9837, 500)"
            ]
          },
          "metadata": {},
          "execution_count": 20
        }
      ],
      "source": [
        "np.array(test_x_hyper).shape"
      ]
    },
    {
      "cell_type": "code",
      "execution_count": null,
      "metadata": {
        "id": "PEbBofcI6s2V"
      },
      "outputs": [],
      "source": [
        "normo_results = test_dataset(model=model, test_x=np.array(test_x_normo), test_y=np.array(test_y_normo))"
      ]
    },
    {
      "cell_type": "code",
      "execution_count": null,
      "metadata": {
        "colab": {
          "base_uri": "https://localhost:8080/"
        },
        "id": "cAPgUCnL6s2V",
        "outputId": "ba1e9bf2-e8d9-4d8c-9a21-c1ae36c7f59c"
      },
      "outputs": [
        {
          "output_type": "execute_result",
          "data": {
            "text/plain": [
              "{'DBP < 10': 94.41226272168257,\n",
              " 'DBP < 15': 99.05534266108191,\n",
              " 'DBP < 5': 73.93280456287319,\n",
              " 'MAE DBP': 3.680599779001067,\n",
              " 'MAE MAP': 2.590299159181169,\n",
              " 'MAE SBP': 7.770897477543508,\n",
              " 'MAP < 10': 88.23634257196328,\n",
              " 'MAP < 15': 96.81846537741734,\n",
              " 'MAP < 5': 61.69681846537741,\n",
              " 'SBP < 10': 73.51394706354158,\n",
              " 'SBP < 15': 85.53604848052758,\n",
              " 'SBP < 5': 49.71036449514303,\n",
              " 'SD DBP': 5.48020801381901,\n",
              " 'SD MAP': 6.268293589599026,\n",
              " 'SD SBP': 11.37815944414427}"
            ]
          },
          "metadata": {},
          "execution_count": 22
        }
      ],
      "source": [
        "normo_results"
      ]
    },
    {
      "cell_type": "code",
      "execution_count": null,
      "metadata": {
        "colab": {
          "base_uri": "https://localhost:8080/"
        },
        "id": "fKzGGYk66s2W",
        "outputId": "ca1250e6-1b99-410e-9bb0-04d2c443a825"
      },
      "outputs": [
        {
          "output_type": "execute_result",
          "data": {
            "text/plain": [
              "(11221, 500)"
            ]
          },
          "metadata": {},
          "execution_count": 23
        }
      ],
      "source": [
        "np.array(test_x_normo).shape"
      ]
    }
  ],
  "metadata": {
    "interpreter": {
      "hash": "95135ea0c4e00784550bcf02ff97b2a2170f74b027690653649fea55a642c870"
    },
    "kernelspec": {
      "display_name": "Python 3.7.9 ('taher')",
      "language": "python",
      "name": "python3"
    },
    "language_info": {
      "codemirror_mode": {
        "name": "ipython",
        "version": 3
      },
      "file_extension": ".py",
      "mimetype": "text/x-python",
      "name": "python",
      "nbconvert_exporter": "python",
      "pygments_lexer": "ipython3",
      "version": "3.7.9"
    },
    "orig_nbformat": 4,
    "colab": {
      "provenance": []
    }
  },
  "nbformat": 4,
  "nbformat_minor": 0
}